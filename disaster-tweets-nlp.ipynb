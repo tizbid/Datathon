{
 "cells": [
  {
   "cell_type": "code",
   "execution_count": 1,
   "id": "9c8691e5",
   "metadata": {
    "_cell_guid": "b1076dfc-b9ad-4769-8c92-a6c4dae69d19",
    "_uuid": "8f2839f25d086af736a60e9eeb907d3b93b6e0e5",
    "execution": {
     "iopub.execute_input": "2021-09-19T20:30:51.117983Z",
     "iopub.status.busy": "2021-09-19T20:30:51.116460Z",
     "iopub.status.idle": "2021-09-19T20:30:51.202515Z",
     "shell.execute_reply": "2021-09-19T20:30:51.203227Z",
     "shell.execute_reply.started": "2021-09-19T19:34:48.698416Z"
    },
    "papermill": {
     "duration": 0.113012,
     "end_time": "2021-09-19T20:30:51.203590",
     "exception": false,
     "start_time": "2021-09-19T20:30:51.090578",
     "status": "completed"
    },
    "tags": []
   },
   "outputs": [
    {
     "name": "stdout",
     "output_type": "stream",
     "text": [
      "/kaggle/input/nlp-getting-started/sample_submission.csv\n",
      "/kaggle/input/nlp-getting-started/train.csv\n",
      "/kaggle/input/nlp-getting-started/test.csv\n"
     ]
    }
   ],
   "source": [
    "# This Python 3 environment comes with many helpful analytics libraries installed\n",
    "# It is defined by the kaggle/python Docker image: https://github.com/kaggle/docker-python\n",
    "# For example, here's several helpful packages to load\n",
    "\n",
    "import numpy as np # linear algebra\n",
    "import pandas as pd # data processing, CSV file I/O (e.g. pd.read_csv)\n",
    "\n",
    "# Input data files are available in the read-only \"../input/\" directory\n",
    "# For example, running this (by clicking run or pressing Shift+Enter) will list all files under the input directory\n",
    "\n",
    "import os\n",
    "for dirname, _, filenames in os.walk('/kaggle/input'):\n",
    "    for filename in filenames:\n",
    "        print(os.path.join(dirname, filename))\n",
    "\n",
    "# You can write up to 20GB to the current directory (/kaggle/working/) that gets preserved as output when you create a version using \"Save & Run All\" \n",
    "# You can also write temporary files to /kaggle/temp/, but they won't be saved outside of the current session"
   ]
  },
  {
   "cell_type": "markdown",
   "id": "1e927768",
   "metadata": {
    "papermill": {
     "duration": 0.019568,
     "end_time": "2021-09-19T20:30:51.245149",
     "exception": false,
     "start_time": "2021-09-19T20:30:51.225581",
     "status": "completed"
    },
    "tags": []
   },
   "source": []
  },
  {
   "cell_type": "markdown",
   "id": "5566c661",
   "metadata": {
    "papermill": {
     "duration": 0.019495,
     "end_time": "2021-09-19T20:30:51.284344",
     "exception": false,
     "start_time": "2021-09-19T20:30:51.264849",
     "status": "completed"
    },
    "tags": []
   },
   "source": [
    "#### Import libraries"
   ]
  },
  {
   "cell_type": "code",
   "execution_count": 2,
   "id": "082bef60",
   "metadata": {
    "execution": {
     "iopub.execute_input": "2021-09-19T20:30:51.332815Z",
     "iopub.status.busy": "2021-09-19T20:30:51.332113Z",
     "iopub.status.idle": "2021-09-19T20:30:56.162408Z",
     "shell.execute_reply": "2021-09-19T20:30:56.161375Z",
     "shell.execute_reply.started": "2021-09-19T19:34:51.673937Z"
    },
    "papermill": {
     "duration": 4.857382,
     "end_time": "2021-09-19T20:30:56.162544",
     "exception": false,
     "start_time": "2021-09-19T20:30:51.305162",
     "status": "completed"
    },
    "tags": []
   },
   "outputs": [
    {
     "name": "stderr",
     "output_type": "stream",
     "text": [
      "2021-09-19 20:30:51.850957: I tensorflow/stream_executor/platform/default/dso_loader.cc:49] Successfully opened dynamic library libcudart.so.11.0\n"
     ]
    }
   ],
   "source": [
    "import tensorflow as tf\n",
    "from tensorflow import keras\n",
    "import matplotlib.pyplot as plt\n",
    "from tensorflow.keras import layers\n",
    "from tensorflow.keras.layers.experimental.preprocessing import TextVectorization\n",
    "from tensorflow.keras.layers import Dense, Embedding\n",
    "from tensorflow.keras.preprocessing.text import Tokenizer\n",
    "from sklearn.model_selection import train_test_split\n",
    "from tensorflow.keras.preprocessing.sequence import pad_sequences\n",
    "import itertools"
   ]
  },
  {
   "cell_type": "markdown",
   "id": "01e51cb0",
   "metadata": {
    "papermill": {
     "duration": 0.02129,
     "end_time": "2021-09-19T20:30:56.204587",
     "exception": false,
     "start_time": "2021-09-19T20:30:56.183297",
     "status": "completed"
    },
    "tags": []
   },
   "source": [
    "#### Load and inspeact data"
   ]
  },
  {
   "cell_type": "code",
   "execution_count": 3,
   "id": "21589808",
   "metadata": {
    "execution": {
     "iopub.execute_input": "2021-09-19T20:30:56.249957Z",
     "iopub.status.busy": "2021-09-19T20:30:56.249140Z",
     "iopub.status.idle": "2021-09-19T20:30:56.251126Z",
     "shell.execute_reply": "2021-09-19T20:30:56.251532Z",
     "shell.execute_reply.started": "2021-09-19T19:34:56.414124Z"
    },
    "papermill": {
     "duration": 0.026476,
     "end_time": "2021-09-19T20:30:56.251655",
     "exception": false,
     "start_time": "2021-09-19T20:30:56.225179",
     "status": "completed"
    },
    "tags": []
   },
   "outputs": [],
   "source": [
    "train_path = '/kaggle/input/nlp-getting-started/train.csv'\n",
    "test_path = '/kaggle/input/nlp-getting-started/test.csv'\n",
    "sub_path = '/kaggle/input/nlp-getting-started/sample_submission.csv'"
   ]
  },
  {
   "cell_type": "code",
   "execution_count": 4,
   "id": "0d53e47c",
   "metadata": {
    "execution": {
     "iopub.execute_input": "2021-09-19T20:30:56.296108Z",
     "iopub.status.busy": "2021-09-19T20:30:56.295611Z",
     "iopub.status.idle": "2021-09-19T20:30:56.359558Z",
     "shell.execute_reply": "2021-09-19T20:30:56.359080Z",
     "shell.execute_reply.started": "2021-09-19T19:34:56.921838Z"
    },
    "papermill": {
     "duration": 0.087858,
     "end_time": "2021-09-19T20:30:56.359672",
     "exception": false,
     "start_time": "2021-09-19T20:30:56.271814",
     "status": "completed"
    },
    "tags": []
   },
   "outputs": [],
   "source": [
    "train_df = pd.read_csv(train_path)\n",
    "test_df = pd.read_csv(test_path)"
   ]
  },
  {
   "cell_type": "code",
   "execution_count": 5,
   "id": "1d4f6146",
   "metadata": {
    "execution": {
     "iopub.execute_input": "2021-09-19T20:30:56.409654Z",
     "iopub.status.busy": "2021-09-19T20:30:56.407242Z",
     "iopub.status.idle": "2021-09-19T20:30:56.424452Z",
     "shell.execute_reply": "2021-09-19T20:30:56.424867Z",
     "shell.execute_reply.started": "2021-09-19T16:44:00.630564Z"
    },
    "papermill": {
     "duration": 0.044837,
     "end_time": "2021-09-19T20:30:56.425005",
     "exception": false,
     "start_time": "2021-09-19T20:30:56.380168",
     "status": "completed"
    },
    "tags": []
   },
   "outputs": [
    {
     "data": {
      "text/html": [
       "<div>\n",
       "<style scoped>\n",
       "    .dataframe tbody tr th:only-of-type {\n",
       "        vertical-align: middle;\n",
       "    }\n",
       "\n",
       "    .dataframe tbody tr th {\n",
       "        vertical-align: top;\n",
       "    }\n",
       "\n",
       "    .dataframe thead th {\n",
       "        text-align: right;\n",
       "    }\n",
       "</style>\n",
       "<table border=\"1\" class=\"dataframe\">\n",
       "  <thead>\n",
       "    <tr style=\"text-align: right;\">\n",
       "      <th></th>\n",
       "      <th>id</th>\n",
       "      <th>keyword</th>\n",
       "      <th>location</th>\n",
       "      <th>text</th>\n",
       "      <th>target</th>\n",
       "    </tr>\n",
       "  </thead>\n",
       "  <tbody>\n",
       "    <tr>\n",
       "      <th>0</th>\n",
       "      <td>1</td>\n",
       "      <td>NaN</td>\n",
       "      <td>NaN</td>\n",
       "      <td>Our Deeds are the Reason of this #earthquake M...</td>\n",
       "      <td>1</td>\n",
       "    </tr>\n",
       "    <tr>\n",
       "      <th>1</th>\n",
       "      <td>4</td>\n",
       "      <td>NaN</td>\n",
       "      <td>NaN</td>\n",
       "      <td>Forest fire near La Ronge Sask. Canada</td>\n",
       "      <td>1</td>\n",
       "    </tr>\n",
       "    <tr>\n",
       "      <th>2</th>\n",
       "      <td>5</td>\n",
       "      <td>NaN</td>\n",
       "      <td>NaN</td>\n",
       "      <td>All residents asked to 'shelter in place' are ...</td>\n",
       "      <td>1</td>\n",
       "    </tr>\n",
       "    <tr>\n",
       "      <th>3</th>\n",
       "      <td>6</td>\n",
       "      <td>NaN</td>\n",
       "      <td>NaN</td>\n",
       "      <td>13,000 people receive #wildfires evacuation or...</td>\n",
       "      <td>1</td>\n",
       "    </tr>\n",
       "    <tr>\n",
       "      <th>4</th>\n",
       "      <td>7</td>\n",
       "      <td>NaN</td>\n",
       "      <td>NaN</td>\n",
       "      <td>Just got sent this photo from Ruby #Alaska as ...</td>\n",
       "      <td>1</td>\n",
       "    </tr>\n",
       "  </tbody>\n",
       "</table>\n",
       "</div>"
      ],
      "text/plain": [
       "   id keyword location                                               text  \\\n",
       "0   1     NaN      NaN  Our Deeds are the Reason of this #earthquake M...   \n",
       "1   4     NaN      NaN             Forest fire near La Ronge Sask. Canada   \n",
       "2   5     NaN      NaN  All residents asked to 'shelter in place' are ...   \n",
       "3   6     NaN      NaN  13,000 people receive #wildfires evacuation or...   \n",
       "4   7     NaN      NaN  Just got sent this photo from Ruby #Alaska as ...   \n",
       "\n",
       "   target  \n",
       "0       1  \n",
       "1       1  \n",
       "2       1  \n",
       "3       1  \n",
       "4       1  "
      ]
     },
     "execution_count": 5,
     "metadata": {},
     "output_type": "execute_result"
    }
   ],
   "source": [
    "train_df.head()"
   ]
  },
  {
   "cell_type": "code",
   "execution_count": 6,
   "id": "a4f66fa5",
   "metadata": {
    "execution": {
     "iopub.execute_input": "2021-09-19T20:30:56.474564Z",
     "iopub.status.busy": "2021-09-19T20:30:56.474056Z",
     "iopub.status.idle": "2021-09-19T20:30:56.478268Z",
     "shell.execute_reply": "2021-09-19T20:30:56.478668Z",
     "shell.execute_reply.started": "2021-09-19T13:52:15.689327Z"
    },
    "papermill": {
     "duration": 0.033321,
     "end_time": "2021-09-19T20:30:56.478783",
     "exception": false,
     "start_time": "2021-09-19T20:30:56.445462",
     "status": "completed"
    },
    "tags": []
   },
   "outputs": [
    {
     "data": {
      "text/html": [
       "<div>\n",
       "<style scoped>\n",
       "    .dataframe tbody tr th:only-of-type {\n",
       "        vertical-align: middle;\n",
       "    }\n",
       "\n",
       "    .dataframe tbody tr th {\n",
       "        vertical-align: top;\n",
       "    }\n",
       "\n",
       "    .dataframe thead th {\n",
       "        text-align: right;\n",
       "    }\n",
       "</style>\n",
       "<table border=\"1\" class=\"dataframe\">\n",
       "  <thead>\n",
       "    <tr style=\"text-align: right;\">\n",
       "      <th></th>\n",
       "      <th>id</th>\n",
       "      <th>keyword</th>\n",
       "      <th>location</th>\n",
       "      <th>text</th>\n",
       "    </tr>\n",
       "  </thead>\n",
       "  <tbody>\n",
       "    <tr>\n",
       "      <th>0</th>\n",
       "      <td>0</td>\n",
       "      <td>NaN</td>\n",
       "      <td>NaN</td>\n",
       "      <td>Just happened a terrible car crash</td>\n",
       "    </tr>\n",
       "    <tr>\n",
       "      <th>1</th>\n",
       "      <td>2</td>\n",
       "      <td>NaN</td>\n",
       "      <td>NaN</td>\n",
       "      <td>Heard about #earthquake is different cities, s...</td>\n",
       "    </tr>\n",
       "    <tr>\n",
       "      <th>2</th>\n",
       "      <td>3</td>\n",
       "      <td>NaN</td>\n",
       "      <td>NaN</td>\n",
       "      <td>there is a forest fire at spot pond, geese are...</td>\n",
       "    </tr>\n",
       "    <tr>\n",
       "      <th>3</th>\n",
       "      <td>9</td>\n",
       "      <td>NaN</td>\n",
       "      <td>NaN</td>\n",
       "      <td>Apocalypse lighting. #Spokane #wildfires</td>\n",
       "    </tr>\n",
       "    <tr>\n",
       "      <th>4</th>\n",
       "      <td>11</td>\n",
       "      <td>NaN</td>\n",
       "      <td>NaN</td>\n",
       "      <td>Typhoon Soudelor kills 28 in China and Taiwan</td>\n",
       "    </tr>\n",
       "  </tbody>\n",
       "</table>\n",
       "</div>"
      ],
      "text/plain": [
       "   id keyword location                                               text\n",
       "0   0     NaN      NaN                 Just happened a terrible car crash\n",
       "1   2     NaN      NaN  Heard about #earthquake is different cities, s...\n",
       "2   3     NaN      NaN  there is a forest fire at spot pond, geese are...\n",
       "3   9     NaN      NaN           Apocalypse lighting. #Spokane #wildfires\n",
       "4  11     NaN      NaN      Typhoon Soudelor kills 28 in China and Taiwan"
      ]
     },
     "execution_count": 6,
     "metadata": {},
     "output_type": "execute_result"
    }
   ],
   "source": [
    "test_df.head()"
   ]
  },
  {
   "cell_type": "markdown",
   "id": "a6182e3a",
   "metadata": {
    "papermill": {
     "duration": 0.020671,
     "end_time": "2021-09-19T20:30:56.520135",
     "exception": false,
     "start_time": "2021-09-19T20:30:56.499464",
     "status": "completed"
    },
    "tags": []
   },
   "source": [
    "#### Data Preprocessing"
   ]
  },
  {
   "cell_type": "markdown",
   "id": "3b28b135",
   "metadata": {
    "papermill": {
     "duration": 0.021299,
     "end_time": "2021-09-19T20:30:56.562374",
     "exception": false,
     "start_time": "2021-09-19T20:30:56.541075",
     "status": "completed"
    },
    "tags": []
   },
   "source": [
    "##### Drop all null colunms"
   ]
  },
  {
   "cell_type": "code",
   "execution_count": 7,
   "id": "f8b8ef38",
   "metadata": {
    "execution": {
     "iopub.execute_input": "2021-09-19T20:30:56.614842Z",
     "iopub.status.busy": "2021-09-19T20:30:56.613271Z",
     "iopub.status.idle": "2021-09-19T20:30:56.615512Z",
     "shell.execute_reply": "2021-09-19T20:30:56.615944Z",
     "shell.execute_reply.started": "2021-09-19T19:35:00.894086Z"
    },
    "papermill": {
     "duration": 0.032169,
     "end_time": "2021-09-19T20:30:56.616072",
     "exception": false,
     "start_time": "2021-09-19T20:30:56.583903",
     "status": "completed"
    },
    "tags": []
   },
   "outputs": [],
   "source": [
    "train_df = train_df.drop(columns=['keyword', 'location'])\n",
    "test_df = test_df.drop(columns=['keyword', 'location'])"
   ]
  },
  {
   "cell_type": "code",
   "execution_count": 8,
   "id": "a5ec58bf",
   "metadata": {
    "execution": {
     "iopub.execute_input": "2021-09-19T20:30:56.665242Z",
     "iopub.status.busy": "2021-09-19T20:30:56.664575Z",
     "iopub.status.idle": "2021-09-19T20:30:56.668409Z",
     "shell.execute_reply": "2021-09-19T20:30:56.668804Z",
     "shell.execute_reply.started": "2021-09-19T16:44:08.203276Z"
    },
    "papermill": {
     "duration": 0.031869,
     "end_time": "2021-09-19T20:30:56.668938",
     "exception": false,
     "start_time": "2021-09-19T20:30:56.637069",
     "status": "completed"
    },
    "tags": []
   },
   "outputs": [
    {
     "data": {
      "text/plain": [
       "id      0\n",
       "text    0\n",
       "dtype: int64"
      ]
     },
     "execution_count": 8,
     "metadata": {},
     "output_type": "execute_result"
    }
   ],
   "source": [
    "test_df.isnull().sum()"
   ]
  },
  {
   "cell_type": "markdown",
   "id": "4c9f9c0d",
   "metadata": {
    "papermill": {
     "duration": 0.021196,
     "end_time": "2021-09-19T20:30:56.711662",
     "exception": false,
     "start_time": "2021-09-19T20:30:56.690466",
     "status": "completed"
    },
    "tags": []
   },
   "source": [
    "##### Seperate data into featuures and target"
   ]
  },
  {
   "cell_type": "code",
   "execution_count": 9,
   "id": "d42360bc",
   "metadata": {
    "execution": {
     "iopub.execute_input": "2021-09-19T20:30:56.760722Z",
     "iopub.status.busy": "2021-09-19T20:30:56.759322Z",
     "iopub.status.idle": "2021-09-19T20:30:56.761418Z",
     "shell.execute_reply": "2021-09-19T20:30:56.761843Z",
     "shell.execute_reply.started": "2021-09-19T19:35:05.907801Z"
    },
    "papermill": {
     "duration": 0.028561,
     "end_time": "2021-09-19T20:30:56.762006",
     "exception": false,
     "start_time": "2021-09-19T20:30:56.733445",
     "status": "completed"
    },
    "tags": []
   },
   "outputs": [],
   "source": [
    "train_x = train_df[\"text\"].values\n",
    "train_y = train_df[\"target\"].values\n",
    "test_x = test_df[\"text\"].values"
   ]
  },
  {
   "cell_type": "markdown",
   "id": "624d9793",
   "metadata": {
    "papermill": {
     "duration": 0.021177,
     "end_time": "2021-09-19T20:30:56.805234",
     "exception": false,
     "start_time": "2021-09-19T20:30:56.784057",
     "status": "completed"
    },
    "tags": []
   },
   "source": [
    "##### train-validation split"
   ]
  },
  {
   "cell_type": "code",
   "execution_count": 10,
   "id": "46695153",
   "metadata": {
    "execution": {
     "iopub.execute_input": "2021-09-19T20:30:56.858827Z",
     "iopub.status.busy": "2021-09-19T20:30:56.857294Z",
     "iopub.status.idle": "2021-09-19T20:30:56.859459Z",
     "shell.execute_reply": "2021-09-19T20:30:56.859862Z",
     "shell.execute_reply.started": "2021-09-19T19:35:08.896922Z"
    },
    "papermill": {
     "duration": 0.032216,
     "end_time": "2021-09-19T20:30:56.859983",
     "exception": false,
     "start_time": "2021-09-19T20:30:56.827767",
     "status": "completed"
    },
    "tags": []
   },
   "outputs": [],
   "source": [
    "train_x,valid_x,y_train,y_valid = train_test_split(train_x, train_y, test_size=0.2, random_state=1)"
   ]
  },
  {
   "cell_type": "markdown",
   "id": "f76c25b0",
   "metadata": {
    "papermill": {
     "duration": 0.021395,
     "end_time": "2021-09-19T20:30:56.902640",
     "exception": false,
     "start_time": "2021-09-19T20:30:56.881245",
     "status": "completed"
    },
    "tags": []
   },
   "source": [
    "##### Word Embeddings"
   ]
  },
  {
   "cell_type": "code",
   "execution_count": 11,
   "id": "16e0286e",
   "metadata": {
    "execution": {
     "iopub.execute_input": "2021-09-19T20:30:56.962775Z",
     "iopub.status.busy": "2021-09-19T20:30:56.957381Z",
     "iopub.status.idle": "2021-09-19T20:30:57.370418Z",
     "shell.execute_reply": "2021-09-19T20:30:57.369966Z",
     "shell.execute_reply.started": "2021-09-19T19:35:48.082188Z"
    },
    "papermill": {
     "duration": 0.446797,
     "end_time": "2021-09-19T20:30:57.370541",
     "exception": false,
     "start_time": "2021-09-19T20:30:56.923744",
     "status": "completed"
    },
    "tags": []
   },
   "outputs": [],
   "source": [
    "# constants.\n",
    "max_features = 5000\n",
    "embedding_dim = 20\n",
    "sequence_length = 150\n",
    "\n",
    "#Tokenization\n",
    "tokenizer = Tokenizer(max_features)\n",
    "tokenizer.fit_on_texts(train_x)\n",
    "\n",
    "X_train = tokenizer.texts_to_sequences(train_x)\n",
    "X_valid = tokenizer.texts_to_sequences(valid_x)\n",
    "X_test = tokenizer.texts_to_sequences(test_x)\n",
    "\n",
    "vocab_size = len(tokenizer.word_index) + 1\n",
    "\n",
    "#pad sequence\n",
    "X_train = pad_sequences(X_train, padding='post', maxlen=sequence_length)\n",
    "X_valid = pad_sequences(X_valid, padding='post', maxlen=sequence_length)\n",
    "X_test = pad_sequences(X_test, padding='post', maxlen=sequence_length)"
   ]
  },
  {
   "cell_type": "markdown",
   "id": "a6538597",
   "metadata": {
    "papermill": {
     "duration": 0.020762,
     "end_time": "2021-09-19T20:30:57.412754",
     "exception": false,
     "start_time": "2021-09-19T20:30:57.391992",
     "status": "completed"
    },
    "tags": []
   },
   "source": [
    "#### Build Model"
   ]
  },
  {
   "cell_type": "code",
   "execution_count": 12,
   "id": "5176ab32",
   "metadata": {
    "execution": {
     "iopub.execute_input": "2021-09-19T20:30:57.461147Z",
     "iopub.status.busy": "2021-09-19T20:30:57.460327Z",
     "iopub.status.idle": "2021-09-19T20:31:00.281535Z",
     "shell.execute_reply": "2021-09-19T20:31:00.281060Z",
     "shell.execute_reply.started": "2021-09-19T20:14:35.370665Z"
    },
    "papermill": {
     "duration": 2.847883,
     "end_time": "2021-09-19T20:31:00.281666",
     "exception": false,
     "start_time": "2021-09-19T20:30:57.433783",
     "status": "completed"
    },
    "tags": []
   },
   "outputs": [
    {
     "name": "stderr",
     "output_type": "stream",
     "text": [
      "2021-09-19 20:30:57.478767: I tensorflow/compiler/jit/xla_cpu_device.cc:41] Not creating XLA devices, tf_xla_enable_xla_devices not set\n",
      "2021-09-19 20:30:57.481907: I tensorflow/stream_executor/platform/default/dso_loader.cc:49] Successfully opened dynamic library libcuda.so.1\n",
      "2021-09-19 20:30:57.523942: I tensorflow/stream_executor/cuda/cuda_gpu_executor.cc:941] successful NUMA node read from SysFS had negative value (-1), but there must be at least one NUMA node, so returning NUMA node zero\n",
      "2021-09-19 20:30:57.524625: I tensorflow/core/common_runtime/gpu/gpu_device.cc:1720] Found device 0 with properties: \n",
      "pciBusID: 0000:00:04.0 name: Tesla P100-PCIE-16GB computeCapability: 6.0\n",
      "coreClock: 1.3285GHz coreCount: 56 deviceMemorySize: 15.90GiB deviceMemoryBandwidth: 681.88GiB/s\n",
      "2021-09-19 20:30:57.524691: I tensorflow/stream_executor/platform/default/dso_loader.cc:49] Successfully opened dynamic library libcudart.so.11.0\n",
      "2021-09-19 20:30:57.554463: I tensorflow/stream_executor/platform/default/dso_loader.cc:49] Successfully opened dynamic library libcublas.so.11\n",
      "2021-09-19 20:30:57.554556: I tensorflow/stream_executor/platform/default/dso_loader.cc:49] Successfully opened dynamic library libcublasLt.so.11\n",
      "2021-09-19 20:30:57.568888: I tensorflow/stream_executor/platform/default/dso_loader.cc:49] Successfully opened dynamic library libcufft.so.10\n",
      "2021-09-19 20:30:57.587914: I tensorflow/stream_executor/platform/default/dso_loader.cc:49] Successfully opened dynamic library libcurand.so.10\n",
      "2021-09-19 20:30:57.618142: I tensorflow/stream_executor/platform/default/dso_loader.cc:49] Successfully opened dynamic library libcusolver.so.10\n",
      "2021-09-19 20:30:57.624511: I tensorflow/stream_executor/platform/default/dso_loader.cc:49] Successfully opened dynamic library libcusparse.so.11\n",
      "2021-09-19 20:30:57.626721: I tensorflow/stream_executor/platform/default/dso_loader.cc:49] Successfully opened dynamic library libcudnn.so.8\n",
      "2021-09-19 20:30:57.626937: I tensorflow/stream_executor/cuda/cuda_gpu_executor.cc:941] successful NUMA node read from SysFS had negative value (-1), but there must be at least one NUMA node, so returning NUMA node zero\n",
      "2021-09-19 20:30:57.627642: I tensorflow/stream_executor/cuda/cuda_gpu_executor.cc:941] successful NUMA node read from SysFS had negative value (-1), but there must be at least one NUMA node, so returning NUMA node zero\n",
      "2021-09-19 20:30:57.629260: I tensorflow/core/common_runtime/gpu/gpu_device.cc:1862] Adding visible gpu devices: 0\n",
      "2021-09-19 20:30:57.629707: I tensorflow/core/platform/cpu_feature_guard.cc:142] This TensorFlow binary is optimized with oneAPI Deep Neural Network Library (oneDNN) to use the following CPU instructions in performance-critical operations:  AVX2 AVX512F FMA\n",
      "To enable them in other operations, rebuild TensorFlow with the appropriate compiler flags.\n",
      "2021-09-19 20:30:57.629943: I tensorflow/compiler/jit/xla_gpu_device.cc:99] Not creating XLA devices, tf_xla_enable_xla_devices not set\n",
      "2021-09-19 20:30:57.630097: I tensorflow/stream_executor/cuda/cuda_gpu_executor.cc:941] successful NUMA node read from SysFS had negative value (-1), but there must be at least one NUMA node, so returning NUMA node zero\n",
      "2021-09-19 20:30:57.630653: I tensorflow/core/common_runtime/gpu/gpu_device.cc:1720] Found device 0 with properties: \n",
      "pciBusID: 0000:00:04.0 name: Tesla P100-PCIE-16GB computeCapability: 6.0\n",
      "coreClock: 1.3285GHz coreCount: 56 deviceMemorySize: 15.90GiB deviceMemoryBandwidth: 681.88GiB/s\n",
      "2021-09-19 20:30:57.630690: I tensorflow/stream_executor/platform/default/dso_loader.cc:49] Successfully opened dynamic library libcudart.so.11.0\n",
      "2021-09-19 20:30:57.630729: I tensorflow/stream_executor/platform/default/dso_loader.cc:49] Successfully opened dynamic library libcublas.so.11\n",
      "2021-09-19 20:30:57.630747: I tensorflow/stream_executor/platform/default/dso_loader.cc:49] Successfully opened dynamic library libcublasLt.so.11\n",
      "2021-09-19 20:30:57.630764: I tensorflow/stream_executor/platform/default/dso_loader.cc:49] Successfully opened dynamic library libcufft.so.10\n",
      "2021-09-19 20:30:57.630781: I tensorflow/stream_executor/platform/default/dso_loader.cc:49] Successfully opened dynamic library libcurand.so.10\n",
      "2021-09-19 20:30:57.630798: I tensorflow/stream_executor/platform/default/dso_loader.cc:49] Successfully opened dynamic library libcusolver.so.10\n",
      "2021-09-19 20:30:57.630816: I tensorflow/stream_executor/platform/default/dso_loader.cc:49] Successfully opened dynamic library libcusparse.so.11\n",
      "2021-09-19 20:30:57.630878: I tensorflow/stream_executor/platform/default/dso_loader.cc:49] Successfully opened dynamic library libcudnn.so.8\n",
      "2021-09-19 20:30:57.630968: I tensorflow/stream_executor/cuda/cuda_gpu_executor.cc:941] successful NUMA node read from SysFS had negative value (-1), but there must be at least one NUMA node, so returning NUMA node zero\n",
      "2021-09-19 20:30:57.631595: I tensorflow/stream_executor/cuda/cuda_gpu_executor.cc:941] successful NUMA node read from SysFS had negative value (-1), but there must be at least one NUMA node, so returning NUMA node zero\n",
      "2021-09-19 20:30:57.632133: I tensorflow/core/common_runtime/gpu/gpu_device.cc:1862] Adding visible gpu devices: 0\n",
      "2021-09-19 20:30:57.633226: I tensorflow/stream_executor/platform/default/dso_loader.cc:49] Successfully opened dynamic library libcudart.so.11.0\n",
      "2021-09-19 20:30:58.935888: I tensorflow/core/common_runtime/gpu/gpu_device.cc:1261] Device interconnect StreamExecutor with strength 1 edge matrix:\n",
      "2021-09-19 20:30:58.935937: I tensorflow/core/common_runtime/gpu/gpu_device.cc:1267]      0 \n",
      "2021-09-19 20:30:58.935947: I tensorflow/core/common_runtime/gpu/gpu_device.cc:1280] 0:   N \n",
      "2021-09-19 20:30:58.937693: I tensorflow/stream_executor/cuda/cuda_gpu_executor.cc:941] successful NUMA node read from SysFS had negative value (-1), but there must be at least one NUMA node, so returning NUMA node zero\n",
      "2021-09-19 20:30:58.938511: I tensorflow/stream_executor/cuda/cuda_gpu_executor.cc:941] successful NUMA node read from SysFS had negative value (-1), but there must be at least one NUMA node, so returning NUMA node zero\n",
      "2021-09-19 20:30:58.939206: I tensorflow/stream_executor/cuda/cuda_gpu_executor.cc:941] successful NUMA node read from SysFS had negative value (-1), but there must be at least one NUMA node, so returning NUMA node zero\n",
      "2021-09-19 20:30:58.939762: I tensorflow/core/common_runtime/gpu/gpu_device.cc:1406] Created TensorFlow device (/job:localhost/replica:0/task:0/device:GPU:0 with 14957 MB memory) -> physical GPU (device: 0, name: Tesla P100-PCIE-16GB, pci bus id: 0000:00:04.0, compute capability: 6.0)\n"
     ]
    }
   ],
   "source": [
    "model = tf.keras.Sequential([\n",
    "    tf.keras.layers.Embedding(input_dim= vocab_size, \n",
    "                           output_dim=embedding_dim, \n",
    "                           input_length=sequence_length),\n",
    "    tf.keras.layers.Bidirectional(tf.keras.layers.LSTM(128,  return_sequences=True)),\n",
    "    tf.keras.layers.Bidirectional(tf.keras.layers.LSTM(64)),\n",
    "    tf.keras.layers.Dense(64, activation='relu'),\n",
    "    tf.keras.layers.Dense(64, activation='relu'),\n",
    "    tf.keras.layers.Dense(1,activation='sigmoid')\n",
    "])"
   ]
  },
  {
   "cell_type": "code",
   "execution_count": 13,
   "id": "ec1b0d30",
   "metadata": {
    "execution": {
     "iopub.execute_input": "2021-09-19T20:31:00.337029Z",
     "iopub.status.busy": "2021-09-19T20:31:00.336077Z",
     "iopub.status.idle": "2021-09-19T20:31:00.347298Z",
     "shell.execute_reply": "2021-09-19T20:31:00.347929Z",
     "shell.execute_reply.started": "2021-09-19T20:14:37.501443Z"
    },
    "papermill": {
     "duration": 0.044261,
     "end_time": "2021-09-19T20:31:00.348147",
     "exception": false,
     "start_time": "2021-09-19T20:31:00.303886",
     "status": "completed"
    },
    "tags": []
   },
   "outputs": [
    {
     "name": "stdout",
     "output_type": "stream",
     "text": [
      "Model: \"sequential\"\n",
      "_________________________________________________________________\n",
      "Layer (type)                 Output Shape              Param #   \n",
      "=================================================================\n",
      "embedding (Embedding)        (None, 150, 20)           388480    \n",
      "_________________________________________________________________\n",
      "bidirectional (Bidirectional (None, 150, 256)          152576    \n",
      "_________________________________________________________________\n",
      "bidirectional_1 (Bidirection (None, 128)               164352    \n",
      "_________________________________________________________________\n",
      "dense (Dense)                (None, 64)                8256      \n",
      "_________________________________________________________________\n",
      "dense_1 (Dense)              (None, 64)                4160      \n",
      "_________________________________________________________________\n",
      "dense_2 (Dense)              (None, 1)                 65        \n",
      "=================================================================\n",
      "Total params: 717,889\n",
      "Trainable params: 717,889\n",
      "Non-trainable params: 0\n",
      "_________________________________________________________________\n"
     ]
    }
   ],
   "source": [
    "model.compile(\n",
    "    loss=tf.keras.losses.BinaryCrossentropy(from_logits=True),\n",
    "    optimizer=tf.keras.optimizers.Adam(1e-4),\n",
    "    metrics=['accuracy'])\n",
    "model.summary()"
   ]
  },
  {
   "cell_type": "markdown",
   "id": "5a58fd2c",
   "metadata": {
    "papermill": {
     "duration": 0.021841,
     "end_time": "2021-09-19T20:31:00.392309",
     "exception": false,
     "start_time": "2021-09-19T20:31:00.370468",
     "status": "completed"
    },
    "tags": []
   },
   "source": [
    "#### Fit model and compile model"
   ]
  },
  {
   "cell_type": "code",
   "execution_count": 14,
   "id": "2066ea47",
   "metadata": {
    "execution": {
     "iopub.execute_input": "2021-09-19T20:31:00.442464Z",
     "iopub.status.busy": "2021-09-19T20:31:00.441849Z",
     "iopub.status.idle": "2021-09-19T20:45:06.010380Z",
     "shell.execute_reply": "2021-09-19T20:45:06.010850Z",
     "shell.execute_reply.started": "2021-09-19T20:14:42.113212Z"
    },
    "papermill": {
     "duration": 845.596606,
     "end_time": "2021-09-19T20:45:06.011181",
     "exception": false,
     "start_time": "2021-09-19T20:31:00.414575",
     "status": "completed"
    },
    "tags": []
   },
   "outputs": [
    {
     "name": "stderr",
     "output_type": "stream",
     "text": [
      "2021-09-19 20:31:00.483696: I tensorflow/compiler/mlir/mlir_graph_optimization_pass.cc:116] None of the MLIR optimization passes are enabled (registered 2)\n",
      "2021-09-19 20:31:00.497330: I tensorflow/core/platform/profile_utils/cpu_utils.cc:112] CPU Frequency: 2000134999 Hz\n",
      "2021-09-19 20:31:04.278491: I tensorflow/stream_executor/platform/default/dso_loader.cc:49] Successfully opened dynamic library libcublas.so.11\n",
      "2021-09-19 20:31:05.031237: I tensorflow/stream_executor/platform/default/dso_loader.cc:49] Successfully opened dynamic library libcublasLt.so.11\n",
      "2021-09-19 20:31:05.074593: I tensorflow/stream_executor/platform/default/dso_loader.cc:49] Successfully opened dynamic library libcudnn.so.8\n"
     ]
    }
   ],
   "source": [
    "history = model.fit(X_train, y_train,\n",
    "                    epochs=50,\n",
    "                    verbose=False,\n",
    "                    validation_data=(X_valid, y_valid),\n",
    "                    validation_steps=20,\n",
    "                    batch_size=10)\n"
   ]
  },
  {
   "cell_type": "code",
   "execution_count": 15,
   "id": "c7f94853",
   "metadata": {
    "execution": {
     "iopub.execute_input": "2021-09-19T20:45:06.064567Z",
     "iopub.status.busy": "2021-09-19T20:45:06.063724Z",
     "iopub.status.idle": "2021-09-19T20:45:08.775794Z",
     "shell.execute_reply": "2021-09-19T20:45:08.776632Z",
     "shell.execute_reply.started": "2021-09-19T20:29:35.949625Z"
    },
    "papermill": {
     "duration": 2.740885,
     "end_time": "2021-09-19T20:45:08.776851",
     "exception": false,
     "start_time": "2021-09-19T20:45:06.035966",
     "status": "completed"
    },
    "tags": []
   },
   "outputs": [
    {
     "name": "stdout",
     "output_type": "stream",
     "text": [
      "Training Accuracy: 0.9849\n",
      "Validation Accuracy:  0.7505\n"
     ]
    }
   ],
   "source": [
    "loss, accuracy = model.evaluate(X_train, y_train, verbose=False)\n",
    "print(\"Training Accuracy: {:.4f}\".format(accuracy))\n",
    "loss, accuracy = model.evaluate(X_valid, y_valid, verbose=False)\n",
    "print(\"Validation Accuracy:  {:.4f}\".format(accuracy))\n"
   ]
  },
  {
   "cell_type": "markdown",
   "id": "8f87dccb",
   "metadata": {
    "papermill": {
     "duration": 0.023347,
     "end_time": "2021-09-19T20:45:08.823599",
     "exception": false,
     "start_time": "2021-09-19T20:45:08.800252",
     "status": "completed"
    },
    "tags": []
   },
   "source": [
    "#### plot train validation error"
   ]
  },
  {
   "cell_type": "code",
   "execution_count": 16,
   "id": "16c0999c",
   "metadata": {
    "execution": {
     "iopub.execute_input": "2021-09-19T20:45:08.889942Z",
     "iopub.status.busy": "2021-09-19T20:45:08.889269Z",
     "iopub.status.idle": "2021-09-19T20:45:09.216026Z",
     "shell.execute_reply": "2021-09-19T20:45:09.215346Z",
     "shell.execute_reply.started": "2021-09-19T20:30:00.026256Z"
    },
    "papermill": {
     "duration": 0.369389,
     "end_time": "2021-09-19T20:45:09.216146",
     "exception": false,
     "start_time": "2021-09-19T20:45:08.846757",
     "status": "completed"
    },
    "tags": []
   },
   "outputs": [
    {
     "data": {
      "image/png": "[encoded data removed]",
      "text/plain": [
       "<Figure size 576x576 with 2 Axes>"
      ]
     },
     "metadata": {
      "needs_background": "light"
     },
     "output_type": "display_data"
    }
   ],
   "source": [
    "acc = history.history['accuracy']\n",
    "val_acc = history.history['val_accuracy']\n",
    "\n",
    "loss = history.history['loss']\n",
    "val_loss = history.history['val_loss']\n",
    "\n",
    "epochs_range = range(50)\n",
    "\n",
    "plt.figure(figsize=(8, 8))\n",
    "plt.subplot(1, 2, 1)\n",
    "plt.plot(epochs_range, acc, label='Training Accuracy')\n",
    "plt.plot(epochs_range, val_acc, label='Validation Accuracy')\n",
    "plt.legend(loc='lower right')\n",
    "plt.title('Training and Validation Accuracy')\n",
    "\n",
    "plt.subplot(1, 2, 2)\n",
    "plt.plot(epochs_range, loss, label='Training Loss')\n",
    "plt.plot(epochs_range, val_loss, label='Validation Loss')\n",
    "plt.legend(loc='upper right')\n",
    "plt.title('Training and Validation Loss')\n",
    "plt.show()"
   ]
  },
  {
   "cell_type": "markdown",
   "id": "c4ec0a08",
   "metadata": {
    "papermill": {
     "duration": 0.024136,
     "end_time": "2021-09-19T20:45:09.265200",
     "exception": false,
     "start_time": "2021-09-19T20:45:09.241064",
     "status": "completed"
    },
    "tags": []
   },
   "source": [
    "#### predict result"
   ]
  },
  {
   "cell_type": "code",
   "execution_count": 17,
   "id": "c7936afd",
   "metadata": {
    "execution": {
     "iopub.execute_input": "2021-09-19T20:45:09.317533Z",
     "iopub.status.busy": "2021-09-19T20:45:09.316864Z",
     "iopub.status.idle": "2021-09-19T20:45:11.860986Z",
     "shell.execute_reply": "2021-09-19T20:45:11.860476Z",
     "shell.execute_reply.started": "2021-09-19T20:30:07.350941Z"
    },
    "papermill": {
     "duration": 2.571605,
     "end_time": "2021-09-19T20:45:11.861128",
     "exception": false,
     "start_time": "2021-09-19T20:45:09.289523",
     "status": "completed"
    },
    "tags": []
   },
   "outputs": [
    {
     "name": "stderr",
     "output_type": "stream",
     "text": [
      "/opt/conda/lib/python3.7/site-packages/tensorflow/python/keras/engine/sequential.py:450: UserWarning: `model.predict_classes()` is deprecated and will be removed after 2021-01-01. Please use instead:* `np.argmax(model.predict(x), axis=-1)`,   if your model does multi-class classification   (e.g. if it uses a `softmax` last-layer activation).* `(model.predict(x) > 0.5).astype(\"int32\")`,   if your model does binary classification   (e.g. if it uses a `sigmoid` last-layer activation).\n",
      "  warnings.warn('`model.predict_classes()` is deprecated and '\n"
     ]
    }
   ],
   "source": [
    "prediction = model.predict_classes(X_test)"
   ]
  },
  {
   "cell_type": "code",
   "execution_count": 18,
   "id": "82ecf33a",
   "metadata": {
    "execution": {
     "iopub.execute_input": "2021-09-19T20:45:11.916724Z",
     "iopub.status.busy": "2021-09-19T20:45:11.916191Z",
     "iopub.status.idle": "2021-09-19T20:45:11.919371Z",
     "shell.execute_reply": "2021-09-19T20:45:11.919767Z",
     "shell.execute_reply.started": "2021-09-19T20:30:09.787574Z"
    },
    "papermill": {
     "duration": 0.033858,
     "end_time": "2021-09-19T20:45:11.919917",
     "exception": false,
     "start_time": "2021-09-19T20:45:11.886059",
     "status": "completed"
    },
    "tags": []
   },
   "outputs": [],
   "source": [
    "predicted_target = list(itertools.chain.from_iterable(prediction.tolist()))"
   ]
  },
  {
   "cell_type": "code",
   "execution_count": 19,
   "id": "45ef8ef1",
   "metadata": {
    "execution": {
     "iopub.execute_input": "2021-09-19T20:45:11.975571Z",
     "iopub.status.busy": "2021-09-19T20:45:11.975071Z",
     "iopub.status.idle": "2021-09-19T20:45:11.978428Z",
     "shell.execute_reply": "2021-09-19T20:45:11.978021Z",
     "shell.execute_reply.started": "2021-09-19T20:30:12.121916Z"
    },
    "papermill": {
     "duration": 0.033575,
     "end_time": "2021-09-19T20:45:11.978532",
     "exception": false,
     "start_time": "2021-09-19T20:45:11.944957",
     "status": "completed"
    },
    "tags": []
   },
   "outputs": [],
   "source": [
    "test_predictions= pd.DataFrame({'id': test_df['id'],'target':predicted_target})"
   ]
  },
  {
   "cell_type": "code",
   "execution_count": 20,
   "id": "3d1eac55",
   "metadata": {
    "execution": {
     "iopub.execute_input": "2021-09-19T20:45:12.036629Z",
     "iopub.status.busy": "2021-09-19T20:45:12.035738Z",
     "iopub.status.idle": "2021-09-19T20:45:12.040786Z",
     "shell.execute_reply": "2021-09-19T20:45:12.040200Z",
     "shell.execute_reply.started": "2021-09-19T20:30:14.221927Z"
    },
    "papermill": {
     "duration": 0.038115,
     "end_time": "2021-09-19T20:45:12.041020",
     "exception": false,
     "start_time": "2021-09-19T20:45:12.002905",
     "status": "completed"
    },
    "tags": []
   },
   "outputs": [
    {
     "data": {
      "text/html": [
       "<div>\n",
       "<style scoped>\n",
       "    .dataframe tbody tr th:only-of-type {\n",
       "        vertical-align: middle;\n",
       "    }\n",
       "\n",
       "    .dataframe tbody tr th {\n",
       "        vertical-align: top;\n",
       "    }\n",
       "\n",
       "    .dataframe thead th {\n",
       "        text-align: right;\n",
       "    }\n",
       "</style>\n",
       "<table border=\"1\" class=\"dataframe\">\n",
       "  <thead>\n",
       "    <tr style=\"text-align: right;\">\n",
       "      <th></th>\n",
       "      <th>id</th>\n",
       "      <th>target</th>\n",
       "    </tr>\n",
       "  </thead>\n",
       "  <tbody>\n",
       "    <tr>\n",
       "      <th>0</th>\n",
       "      <td>0</td>\n",
       "      <td>0</td>\n",
       "    </tr>\n",
       "    <tr>\n",
       "      <th>1</th>\n",
       "      <td>2</td>\n",
       "      <td>1</td>\n",
       "    </tr>\n",
       "    <tr>\n",
       "      <th>2</th>\n",
       "      <td>3</td>\n",
       "      <td>1</td>\n",
       "    </tr>\n",
       "    <tr>\n",
       "      <th>3</th>\n",
       "      <td>9</td>\n",
       "      <td>0</td>\n",
       "    </tr>\n",
       "    <tr>\n",
       "      <th>4</th>\n",
       "      <td>11</td>\n",
       "      <td>1</td>\n",
       "    </tr>\n",
       "    <tr>\n",
       "      <th>...</th>\n",
       "      <td>...</td>\n",
       "      <td>...</td>\n",
       "    </tr>\n",
       "    <tr>\n",
       "      <th>3258</th>\n",
       "      <td>10861</td>\n",
       "      <td>0</td>\n",
       "    </tr>\n",
       "    <tr>\n",
       "      <th>3259</th>\n",
       "      <td>10865</td>\n",
       "      <td>1</td>\n",
       "    </tr>\n",
       "    <tr>\n",
       "      <th>3260</th>\n",
       "      <td>10868</td>\n",
       "      <td>1</td>\n",
       "    </tr>\n",
       "    <tr>\n",
       "      <th>3261</th>\n",
       "      <td>10874</td>\n",
       "      <td>1</td>\n",
       "    </tr>\n",
       "    <tr>\n",
       "      <th>3262</th>\n",
       "      <td>10875</td>\n",
       "      <td>1</td>\n",
       "    </tr>\n",
       "  </tbody>\n",
       "</table>\n",
       "<p>3263 rows × 2 columns</p>\n",
       "</div>"
      ],
      "text/plain": [
       "         id  target\n",
       "0         0       0\n",
       "1         2       1\n",
       "2         3       1\n",
       "3         9       0\n",
       "4        11       1\n",
       "...     ...     ...\n",
       "3258  10861       0\n",
       "3259  10865       1\n",
       "3260  10868       1\n",
       "3261  10874       1\n",
       "3262  10875       1\n",
       "\n",
       "[3263 rows x 2 columns]"
      ]
     },
     "execution_count": 20,
     "metadata": {},
     "output_type": "execute_result"
    }
   ],
   "source": [
    "test_predictions"
   ]
  },
  {
   "cell_type": "markdown",
   "id": "c0377c0e",
   "metadata": {
    "papermill": {
     "duration": 0.025172,
     "end_time": "2021-09-19T20:45:12.091778",
     "exception": false,
     "start_time": "2021-09-19T20:45:12.066606",
     "status": "completed"
    },
    "tags": []
   },
   "source": [
    "#### save result"
   ]
  },
  {
   "cell_type": "code",
   "execution_count": 21,
   "id": "6decf6c9",
   "metadata": {
    "execution": {
     "iopub.execute_input": "2021-09-19T20:45:12.145721Z",
     "iopub.status.busy": "2021-09-19T20:45:12.145061Z",
     "iopub.status.idle": "2021-09-19T20:45:12.154788Z",
     "shell.execute_reply": "2021-09-19T20:45:12.154400Z",
     "shell.execute_reply.started": "2021-09-19T20:30:20.640559Z"
    },
    "papermill": {
     "duration": 0.038182,
     "end_time": "2021-09-19T20:45:12.154915",
     "exception": false,
     "start_time": "2021-09-19T20:45:12.116733",
     "status": "completed"
    },
    "tags": []
   },
   "outputs": [],
   "source": [
    "test_predictions.to_csv('my_submission.csv',index=False)"
   ]
  }
 ],
 "metadata": {
  "kernelspec": {
   "display_name": "Python 3",
   "language": "python",
   "name": "python3"
  },
  "language_info": {
   "codemirror_mode": {
    "name": "ipython",
    "version": 3
   },
   "file_extension": ".py",
   "mimetype": "text/x-python",
   "name": "python",
   "nbconvert_exporter": "python",
   "pygments_lexer": "ipython3",
   "version": "3.7.10"
  },
  "papermill": {
   "default_parameters": {},
   "duration": 870.844705,
   "end_time": "2021-09-19T20:45:15.092579",
   "environment_variables": {},
   "exception": null,
   "input_path": "__notebook__.ipynb",
   "output_path": "__notebook__.ipynb",
   "parameters": {},
   "start_time": "2021-09-19T20:30:44.247874",
   "version": "2.3.3"
  }
 },
 "nbformat": 4,
 "nbformat_minor": 5
}
