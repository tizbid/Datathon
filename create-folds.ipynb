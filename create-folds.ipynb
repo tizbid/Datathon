{
 "cells": [
  {
   "cell_type": "markdown",
   "id": "5cf16e91",
   "metadata": {
    "papermill": {
     "duration": 0.01344,
     "end_time": "2021-08-24T11:47:07.700884",
     "exception": false,
     "start_time": "2021-08-24T11:47:07.687444",
     "status": "completed"
    },
    "tags": []
   },
   "source": [
    "Create folds: why?, because it generally results in models with low bias. [Read more](https://towardsdatascience.com/5-reasons-why-you-should-use-cross-validation-in-your-data-science-project-8163311a1e79)"
   ]
  },
  {
   "cell_type": "markdown",
   "id": "9808f03c",
   "metadata": {
    "papermill": {
     "duration": 0.012302,
     "end_time": "2021-08-24T11:47:07.726321",
     "exception": false,
     "start_time": "2021-08-24T11:47:07.714019",
     "status": "completed"
    },
    "tags": []
   },
   "source": [
    "Import Libraries"
   ]
  },
  {
   "cell_type": "code",
   "execution_count": 1,
   "id": "1a926e8a",
   "metadata": {
    "execution": {
     "iopub.execute_input": "2021-08-24T11:47:07.757291Z",
     "iopub.status.busy": "2021-08-24T11:47:07.755517Z",
     "iopub.status.idle": "2021-08-24T11:47:08.755314Z",
     "shell.execute_reply": "2021-08-24T11:47:08.755870Z",
     "shell.execute_reply.started": "2021-08-24T11:43:50.045275Z"
    },
    "papermill": {
     "duration": 1.017586,
     "end_time": "2021-08-24T11:47:08.756193",
     "exception": false,
     "start_time": "2021-08-24T11:47:07.738607",
     "status": "completed"
    },
    "tags": []
   },
   "outputs": [],
   "source": [
    "import numpy as np\n",
    "import pandas as pd\n",
    "from sklearn import model_selection"
   ]
  },
  {
   "cell_type": "markdown",
   "id": "b4ec1123",
   "metadata": {
    "papermill": {
     "duration": 0.012207,
     "end_time": "2021-08-24T11:47:08.781037",
     "exception": false,
     "start_time": "2021-08-24T11:47:08.768830",
     "status": "completed"
    },
    "tags": []
   },
   "source": [
    "Read csv as dataframe"
   ]
  },
  {
   "cell_type": "code",
   "execution_count": 2,
   "id": "4344f16b",
   "metadata": {
    "execution": {
     "iopub.execute_input": "2021-08-24T11:47:08.811277Z",
     "iopub.status.busy": "2021-08-24T11:47:08.810548Z",
     "iopub.status.idle": "2021-08-24T11:47:11.236352Z",
     "shell.execute_reply": "2021-08-24T11:47:11.236954Z",
     "shell.execute_reply.started": "2021-08-24T11:43:50.054941Z"
    },
    "papermill": {
     "duration": 2.443507,
     "end_time": "2021-08-24T11:47:11.237124",
     "exception": false,
     "start_time": "2021-08-24T11:47:08.793617",
     "status": "completed"
    },
    "tags": []
   },
   "outputs": [
    {
     "data": {
      "text/html": [
       "<div>\n",
       "<style scoped>\n",
       "    .dataframe tbody tr th:only-of-type {\n",
       "        vertical-align: middle;\n",
       "    }\n",
       "\n",
       "    .dataframe tbody tr th {\n",
       "        vertical-align: top;\n",
       "    }\n",
       "\n",
       "    .dataframe thead th {\n",
       "        text-align: right;\n",
       "    }\n",
       "</style>\n",
       "<table border=\"1\" class=\"dataframe\">\n",
       "  <thead>\n",
       "    <tr style=\"text-align: right;\">\n",
       "      <th></th>\n",
       "      <th>id</th>\n",
       "      <th>cat0</th>\n",
       "      <th>cat1</th>\n",
       "      <th>cat2</th>\n",
       "      <th>cat3</th>\n",
       "      <th>cat4</th>\n",
       "      <th>cat5</th>\n",
       "      <th>cat6</th>\n",
       "      <th>cat7</th>\n",
       "      <th>cat8</th>\n",
       "      <th>...</th>\n",
       "      <th>cont5</th>\n",
       "      <th>cont6</th>\n",
       "      <th>cont7</th>\n",
       "      <th>cont8</th>\n",
       "      <th>cont9</th>\n",
       "      <th>cont10</th>\n",
       "      <th>cont11</th>\n",
       "      <th>cont12</th>\n",
       "      <th>cont13</th>\n",
       "      <th>target</th>\n",
       "    </tr>\n",
       "  </thead>\n",
       "  <tbody>\n",
       "    <tr>\n",
       "      <th>0</th>\n",
       "      <td>1</td>\n",
       "      <td>B</td>\n",
       "      <td>B</td>\n",
       "      <td>B</td>\n",
       "      <td>C</td>\n",
       "      <td>B</td>\n",
       "      <td>B</td>\n",
       "      <td>A</td>\n",
       "      <td>E</td>\n",
       "      <td>C</td>\n",
       "      <td>...</td>\n",
       "      <td>0.400361</td>\n",
       "      <td>0.160266</td>\n",
       "      <td>0.310921</td>\n",
       "      <td>0.389470</td>\n",
       "      <td>0.267559</td>\n",
       "      <td>0.237281</td>\n",
       "      <td>0.377873</td>\n",
       "      <td>0.322401</td>\n",
       "      <td>0.869850</td>\n",
       "      <td>8.113634</td>\n",
       "    </tr>\n",
       "    <tr>\n",
       "      <th>1</th>\n",
       "      <td>2</td>\n",
       "      <td>B</td>\n",
       "      <td>B</td>\n",
       "      <td>A</td>\n",
       "      <td>A</td>\n",
       "      <td>B</td>\n",
       "      <td>D</td>\n",
       "      <td>A</td>\n",
       "      <td>F</td>\n",
       "      <td>A</td>\n",
       "      <td>...</td>\n",
       "      <td>0.533087</td>\n",
       "      <td>0.558922</td>\n",
       "      <td>0.516294</td>\n",
       "      <td>0.594928</td>\n",
       "      <td>0.341439</td>\n",
       "      <td>0.906013</td>\n",
       "      <td>0.921701</td>\n",
       "      <td>0.261975</td>\n",
       "      <td>0.465083</td>\n",
       "      <td>8.481233</td>\n",
       "    </tr>\n",
       "    <tr>\n",
       "      <th>2</th>\n",
       "      <td>3</td>\n",
       "      <td>A</td>\n",
       "      <td>A</td>\n",
       "      <td>A</td>\n",
       "      <td>C</td>\n",
       "      <td>B</td>\n",
       "      <td>D</td>\n",
       "      <td>A</td>\n",
       "      <td>D</td>\n",
       "      <td>A</td>\n",
       "      <td>...</td>\n",
       "      <td>0.650609</td>\n",
       "      <td>0.375348</td>\n",
       "      <td>0.902567</td>\n",
       "      <td>0.555205</td>\n",
       "      <td>0.843531</td>\n",
       "      <td>0.748809</td>\n",
       "      <td>0.620126</td>\n",
       "      <td>0.541474</td>\n",
       "      <td>0.763846</td>\n",
       "      <td>8.364351</td>\n",
       "    </tr>\n",
       "    <tr>\n",
       "      <th>3</th>\n",
       "      <td>4</td>\n",
       "      <td>B</td>\n",
       "      <td>B</td>\n",
       "      <td>A</td>\n",
       "      <td>C</td>\n",
       "      <td>B</td>\n",
       "      <td>D</td>\n",
       "      <td>A</td>\n",
       "      <td>E</td>\n",
       "      <td>C</td>\n",
       "      <td>...</td>\n",
       "      <td>0.668980</td>\n",
       "      <td>0.239061</td>\n",
       "      <td>0.732948</td>\n",
       "      <td>0.679618</td>\n",
       "      <td>0.574844</td>\n",
       "      <td>0.346010</td>\n",
       "      <td>0.714610</td>\n",
       "      <td>0.540150</td>\n",
       "      <td>0.280682</td>\n",
       "      <td>8.049253</td>\n",
       "    </tr>\n",
       "    <tr>\n",
       "      <th>4</th>\n",
       "      <td>6</td>\n",
       "      <td>A</td>\n",
       "      <td>A</td>\n",
       "      <td>A</td>\n",
       "      <td>C</td>\n",
       "      <td>B</td>\n",
       "      <td>D</td>\n",
       "      <td>A</td>\n",
       "      <td>E</td>\n",
       "      <td>A</td>\n",
       "      <td>...</td>\n",
       "      <td>0.686964</td>\n",
       "      <td>0.420667</td>\n",
       "      <td>0.648182</td>\n",
       "      <td>0.684501</td>\n",
       "      <td>0.956692</td>\n",
       "      <td>1.000773</td>\n",
       "      <td>0.776742</td>\n",
       "      <td>0.625849</td>\n",
       "      <td>0.250823</td>\n",
       "      <td>7.972260</td>\n",
       "    </tr>\n",
       "  </tbody>\n",
       "</table>\n",
       "<p>5 rows × 26 columns</p>\n",
       "</div>"
      ],
      "text/plain": [
       "   id cat0 cat1 cat2 cat3 cat4 cat5 cat6 cat7 cat8  ...     cont5     cont6  \\\n",
       "0   1    B    B    B    C    B    B    A    E    C  ...  0.400361  0.160266   \n",
       "1   2    B    B    A    A    B    D    A    F    A  ...  0.533087  0.558922   \n",
       "2   3    A    A    A    C    B    D    A    D    A  ...  0.650609  0.375348   \n",
       "3   4    B    B    A    C    B    D    A    E    C  ...  0.668980  0.239061   \n",
       "4   6    A    A    A    C    B    D    A    E    A  ...  0.686964  0.420667   \n",
       "\n",
       "      cont7     cont8     cont9    cont10    cont11    cont12    cont13  \\\n",
       "0  0.310921  0.389470  0.267559  0.237281  0.377873  0.322401  0.869850   \n",
       "1  0.516294  0.594928  0.341439  0.906013  0.921701  0.261975  0.465083   \n",
       "2  0.902567  0.555205  0.843531  0.748809  0.620126  0.541474  0.763846   \n",
       "3  0.732948  0.679618  0.574844  0.346010  0.714610  0.540150  0.280682   \n",
       "4  0.648182  0.684501  0.956692  1.000773  0.776742  0.625849  0.250823   \n",
       "\n",
       "     target  \n",
       "0  8.113634  \n",
       "1  8.481233  \n",
       "2  8.364351  \n",
       "3  8.049253  \n",
       "4  7.972260  \n",
       "\n",
       "[5 rows x 26 columns]"
      ]
     },
     "execution_count": 2,
     "metadata": {},
     "output_type": "execute_result"
    }
   ],
   "source": [
    "df_train = pd.read_csv(\"../input/30-days-of-ml/train.csv\")\n",
    "df_train.head()"
   ]
  },
  {
   "cell_type": "code",
   "execution_count": 3,
   "id": "f3282c9e",
   "metadata": {
    "execution": {
     "iopub.execute_input": "2021-08-24T11:47:11.268674Z",
     "iopub.status.busy": "2021-08-24T11:47:11.267719Z",
     "iopub.status.idle": "2021-08-24T11:47:13.458789Z",
     "shell.execute_reply": "2021-08-24T11:47:13.459298Z",
     "shell.execute_reply.started": "2021-08-24T11:43:52.107868Z"
    },
    "papermill": {
     "duration": 2.207867,
     "end_time": "2021-08-24T11:47:13.459490",
     "exception": false,
     "start_time": "2021-08-24T11:47:11.251623",
     "status": "completed"
    },
    "tags": []
   },
   "outputs": [
    {
     "data": {
      "text/plain": [
       "300000"
      ]
     },
     "execution_count": 3,
     "metadata": {},
     "output_type": "execute_result"
    }
   ],
   "source": [
    "#Total amount of data\n",
    "len(df_train.value_counts())"
   ]
  },
  {
   "cell_type": "code",
   "execution_count": 4,
   "id": "2963d66f",
   "metadata": {
    "execution": {
     "iopub.execute_input": "2021-08-24T11:47:13.490119Z",
     "iopub.status.busy": "2021-08-24T11:47:13.489259Z",
     "iopub.status.idle": "2021-08-24T11:47:13.722886Z",
     "shell.execute_reply": "2021-08-24T11:47:13.722369Z",
     "shell.execute_reply.started": "2021-08-24T11:43:54.388661Z"
    },
    "papermill": {
     "duration": 0.249985,
     "end_time": "2021-08-24T11:47:13.723029",
     "exception": false,
     "start_time": "2021-08-24T11:47:13.473044",
     "status": "completed"
    },
    "tags": []
   },
   "outputs": [
    {
     "data": {
      "text/plain": [
       "<AxesSubplot:>"
      ]
     },
     "execution_count": 4,
     "metadata": {},
     "output_type": "execute_result"
    },
    {
     "data": {
      "image/png": "[encoded data removed]",
      "text/plain": [
       "<Figure size 432x288 with 1 Axes>"
      ]
     },
     "metadata": {
      "needs_background": "light"
     },
     "output_type": "display_data"
    }
   ],
   "source": [
    "#plot target distribution\n",
    "df_train.target.hist()"
   ]
  },
  {
   "cell_type": "markdown",
   "id": "83acebac",
   "metadata": {
    "papermill": {
     "duration": 0.014119,
     "end_time": "2021-08-24T11:47:13.751472",
     "exception": false,
     "start_time": "2021-08-24T11:47:13.737353",
     "status": "completed"
    },
    "tags": []
   },
   "source": [
    "Append a new column called \"kfold\" with value \"-1\" to the end of the dataframe"
   ]
  },
  {
   "cell_type": "code",
   "execution_count": 5,
   "id": "0f7f24b7",
   "metadata": {
    "execution": {
     "iopub.execute_input": "2021-08-24T11:47:13.795940Z",
     "iopub.status.busy": "2021-08-24T11:47:13.784486Z",
     "iopub.status.idle": "2021-08-24T11:47:13.812823Z",
     "shell.execute_reply": "2021-08-24T11:47:13.812313Z",
     "shell.execute_reply.started": "2021-08-24T11:43:54.588892Z"
    },
    "papermill": {
     "duration": 0.047036,
     "end_time": "2021-08-24T11:47:13.812963",
     "exception": false,
     "start_time": "2021-08-24T11:47:13.765927",
     "status": "completed"
    },
    "tags": []
   },
   "outputs": [
    {
     "data": {
      "text/html": [
       "<div>\n",
       "<style scoped>\n",
       "    .dataframe tbody tr th:only-of-type {\n",
       "        vertical-align: middle;\n",
       "    }\n",
       "\n",
       "    .dataframe tbody tr th {\n",
       "        vertical-align: top;\n",
       "    }\n",
       "\n",
       "    .dataframe thead th {\n",
       "        text-align: right;\n",
       "    }\n",
       "</style>\n",
       "<table border=\"1\" class=\"dataframe\">\n",
       "  <thead>\n",
       "    <tr style=\"text-align: right;\">\n",
       "      <th></th>\n",
       "      <th>id</th>\n",
       "      <th>cat0</th>\n",
       "      <th>cat1</th>\n",
       "      <th>cat2</th>\n",
       "      <th>cat3</th>\n",
       "      <th>cat4</th>\n",
       "      <th>cat5</th>\n",
       "      <th>cat6</th>\n",
       "      <th>cat7</th>\n",
       "      <th>cat8</th>\n",
       "      <th>...</th>\n",
       "      <th>cont6</th>\n",
       "      <th>cont7</th>\n",
       "      <th>cont8</th>\n",
       "      <th>cont9</th>\n",
       "      <th>cont10</th>\n",
       "      <th>cont11</th>\n",
       "      <th>cont12</th>\n",
       "      <th>cont13</th>\n",
       "      <th>target</th>\n",
       "      <th>kfold</th>\n",
       "    </tr>\n",
       "  </thead>\n",
       "  <tbody>\n",
       "    <tr>\n",
       "      <th>0</th>\n",
       "      <td>1</td>\n",
       "      <td>B</td>\n",
       "      <td>B</td>\n",
       "      <td>B</td>\n",
       "      <td>C</td>\n",
       "      <td>B</td>\n",
       "      <td>B</td>\n",
       "      <td>A</td>\n",
       "      <td>E</td>\n",
       "      <td>C</td>\n",
       "      <td>...</td>\n",
       "      <td>0.160266</td>\n",
       "      <td>0.310921</td>\n",
       "      <td>0.389470</td>\n",
       "      <td>0.267559</td>\n",
       "      <td>0.237281</td>\n",
       "      <td>0.377873</td>\n",
       "      <td>0.322401</td>\n",
       "      <td>0.869850</td>\n",
       "      <td>8.113634</td>\n",
       "      <td>-1</td>\n",
       "    </tr>\n",
       "    <tr>\n",
       "      <th>1</th>\n",
       "      <td>2</td>\n",
       "      <td>B</td>\n",
       "      <td>B</td>\n",
       "      <td>A</td>\n",
       "      <td>A</td>\n",
       "      <td>B</td>\n",
       "      <td>D</td>\n",
       "      <td>A</td>\n",
       "      <td>F</td>\n",
       "      <td>A</td>\n",
       "      <td>...</td>\n",
       "      <td>0.558922</td>\n",
       "      <td>0.516294</td>\n",
       "      <td>0.594928</td>\n",
       "      <td>0.341439</td>\n",
       "      <td>0.906013</td>\n",
       "      <td>0.921701</td>\n",
       "      <td>0.261975</td>\n",
       "      <td>0.465083</td>\n",
       "      <td>8.481233</td>\n",
       "      <td>-1</td>\n",
       "    </tr>\n",
       "    <tr>\n",
       "      <th>2</th>\n",
       "      <td>3</td>\n",
       "      <td>A</td>\n",
       "      <td>A</td>\n",
       "      <td>A</td>\n",
       "      <td>C</td>\n",
       "      <td>B</td>\n",
       "      <td>D</td>\n",
       "      <td>A</td>\n",
       "      <td>D</td>\n",
       "      <td>A</td>\n",
       "      <td>...</td>\n",
       "      <td>0.375348</td>\n",
       "      <td>0.902567</td>\n",
       "      <td>0.555205</td>\n",
       "      <td>0.843531</td>\n",
       "      <td>0.748809</td>\n",
       "      <td>0.620126</td>\n",
       "      <td>0.541474</td>\n",
       "      <td>0.763846</td>\n",
       "      <td>8.364351</td>\n",
       "      <td>-1</td>\n",
       "    </tr>\n",
       "    <tr>\n",
       "      <th>3</th>\n",
       "      <td>4</td>\n",
       "      <td>B</td>\n",
       "      <td>B</td>\n",
       "      <td>A</td>\n",
       "      <td>C</td>\n",
       "      <td>B</td>\n",
       "      <td>D</td>\n",
       "      <td>A</td>\n",
       "      <td>E</td>\n",
       "      <td>C</td>\n",
       "      <td>...</td>\n",
       "      <td>0.239061</td>\n",
       "      <td>0.732948</td>\n",
       "      <td>0.679618</td>\n",
       "      <td>0.574844</td>\n",
       "      <td>0.346010</td>\n",
       "      <td>0.714610</td>\n",
       "      <td>0.540150</td>\n",
       "      <td>0.280682</td>\n",
       "      <td>8.049253</td>\n",
       "      <td>-1</td>\n",
       "    </tr>\n",
       "    <tr>\n",
       "      <th>4</th>\n",
       "      <td>6</td>\n",
       "      <td>A</td>\n",
       "      <td>A</td>\n",
       "      <td>A</td>\n",
       "      <td>C</td>\n",
       "      <td>B</td>\n",
       "      <td>D</td>\n",
       "      <td>A</td>\n",
       "      <td>E</td>\n",
       "      <td>A</td>\n",
       "      <td>...</td>\n",
       "      <td>0.420667</td>\n",
       "      <td>0.648182</td>\n",
       "      <td>0.684501</td>\n",
       "      <td>0.956692</td>\n",
       "      <td>1.000773</td>\n",
       "      <td>0.776742</td>\n",
       "      <td>0.625849</td>\n",
       "      <td>0.250823</td>\n",
       "      <td>7.972260</td>\n",
       "      <td>-1</td>\n",
       "    </tr>\n",
       "  </tbody>\n",
       "</table>\n",
       "<p>5 rows × 27 columns</p>\n",
       "</div>"
      ],
      "text/plain": [
       "   id cat0 cat1 cat2 cat3 cat4 cat5 cat6 cat7 cat8  ...     cont6     cont7  \\\n",
       "0   1    B    B    B    C    B    B    A    E    C  ...  0.160266  0.310921   \n",
       "1   2    B    B    A    A    B    D    A    F    A  ...  0.558922  0.516294   \n",
       "2   3    A    A    A    C    B    D    A    D    A  ...  0.375348  0.902567   \n",
       "3   4    B    B    A    C    B    D    A    E    C  ...  0.239061  0.732948   \n",
       "4   6    A    A    A    C    B    D    A    E    A  ...  0.420667  0.648182   \n",
       "\n",
       "      cont8     cont9    cont10    cont11    cont12    cont13    target  kfold  \n",
       "0  0.389470  0.267559  0.237281  0.377873  0.322401  0.869850  8.113634     -1  \n",
       "1  0.594928  0.341439  0.906013  0.921701  0.261975  0.465083  8.481233     -1  \n",
       "2  0.555205  0.843531  0.748809  0.620126  0.541474  0.763846  8.364351     -1  \n",
       "3  0.679618  0.574844  0.346010  0.714610  0.540150  0.280682  8.049253     -1  \n",
       "4  0.684501  0.956692  1.000773  0.776742  0.625849  0.250823  7.972260     -1  \n",
       "\n",
       "[5 rows x 27 columns]"
      ]
     },
     "execution_count": 5,
     "metadata": {},
     "output_type": "execute_result"
    }
   ],
   "source": [
    "df_train[\"kfold\"] = -1\n",
    "df_train.head()"
   ]
  },
  {
   "cell_type": "markdown",
   "id": "d7d95249",
   "metadata": {
    "papermill": {
     "duration": 0.014725,
     "end_time": "2021-08-24T11:47:13.842638",
     "exception": false,
     "start_time": "2021-08-24T11:47:13.827913",
     "status": "completed"
    },
    "tags": []
   },
   "source": [
    "Create 10 folds"
   ]
  },
  {
   "cell_type": "code",
   "execution_count": 6,
   "id": "248832b5",
   "metadata": {
    "execution": {
     "iopub.execute_input": "2021-08-24T11:47:13.878903Z",
     "iopub.status.busy": "2021-08-24T11:47:13.878012Z",
     "iopub.status.idle": "2021-08-24T11:47:13.943598Z",
     "shell.execute_reply": "2021-08-24T11:47:13.942884Z",
     "shell.execute_reply.started": "2021-08-24T11:43:54.620454Z"
    },
    "papermill": {
     "duration": 0.086082,
     "end_time": "2021-08-24T11:47:13.943737",
     "exception": false,
     "start_time": "2021-08-24T11:47:13.857655",
     "status": "completed"
    },
    "tags": []
   },
   "outputs": [],
   "source": [
    "kf = model_selection.KFold(n_splits=10, shuffle=True, random_state=0)\n",
    "for fold, (train_indicies, valid_indicies) in enumerate(kf.split(X=df_train)):\n",
    "    df_train.loc[valid_indicies, \"kfold\"] = fold"
   ]
  },
  {
   "cell_type": "code",
   "execution_count": 7,
   "id": "a4943ac3",
   "metadata": {
    "execution": {
     "iopub.execute_input": "2021-08-24T11:47:13.981491Z",
     "iopub.status.busy": "2021-08-24T11:47:13.980843Z",
     "iopub.status.idle": "2021-08-24T11:47:13.989808Z",
     "shell.execute_reply": "2021-08-24T11:47:13.989287Z",
     "shell.execute_reply.started": "2021-08-24T11:43:54.701755Z"
    },
    "papermill": {
     "duration": 0.031073,
     "end_time": "2021-08-24T11:47:13.989957",
     "exception": false,
     "start_time": "2021-08-24T11:47:13.958884",
     "status": "completed"
    },
    "tags": []
   },
   "outputs": [
    {
     "data": {
      "text/plain": [
       "0    30000\n",
       "1    30000\n",
       "2    30000\n",
       "3    30000\n",
       "4    30000\n",
       "5    30000\n",
       "6    30000\n",
       "7    30000\n",
       "8    30000\n",
       "9    30000\n",
       "Name: kfold, dtype: int64"
      ]
     },
     "execution_count": 7,
     "metadata": {},
     "output_type": "execute_result"
    }
   ],
   "source": [
    "#Amount of data in each fold\n",
    "df_train.kfold.value_counts()"
   ]
  },
  {
   "cell_type": "markdown",
   "id": "d0ee005f",
   "metadata": {
    "papermill": {
     "duration": 0.015231,
     "end_time": "2021-08-24T11:47:14.021095",
     "exception": false,
     "start_time": "2021-08-24T11:47:14.005864",
     "status": "completed"
    },
    "tags": []
   },
   "source": [
    "Plot target distribution for each fold, the distribution should be the same as the for all folds and the plot of the target distribution on the overal dataset made earlier "
   ]
  },
  {
   "cell_type": "code",
   "execution_count": 8,
   "id": "fa388718",
   "metadata": {
    "execution": {
     "iopub.execute_input": "2021-08-24T11:47:14.057085Z",
     "iopub.status.busy": "2021-08-24T11:47:14.056464Z",
     "iopub.status.idle": "2021-08-24T11:47:14.058318Z",
     "shell.execute_reply": "2021-08-24T11:47:14.058753Z",
     "shell.execute_reply.started": "2021-08-24T11:43:54.715867Z"
    },
    "papermill": {
     "duration": 0.022379,
     "end_time": "2021-08-24T11:47:14.058916",
     "exception": false,
     "start_time": "2021-08-24T11:47:14.036537",
     "status": "completed"
    },
    "tags": []
   },
   "outputs": [],
   "source": [
    "def plot_fold_dist(fold):\n",
    "    for fold in range(len(df_train.kfold.unique())):\n",
    "        return df_train[df_train.kfold == fold].target.hist()\n",
    "        "
   ]
  },
  {
   "cell_type": "code",
   "execution_count": 9,
   "id": "818de2f8",
   "metadata": {
    "execution": {
     "iopub.execute_input": "2021-08-24T11:47:14.093751Z",
     "iopub.status.busy": "2021-08-24T11:47:14.093120Z",
     "iopub.status.idle": "2021-08-24T11:47:14.299972Z",
     "shell.execute_reply": "2021-08-24T11:47:14.300478Z",
     "shell.execute_reply.started": "2021-08-24T11:43:54.724601Z"
    },
    "papermill": {
     "duration": 0.225885,
     "end_time": "2021-08-24T11:47:14.300652",
     "exception": false,
     "start_time": "2021-08-24T11:47:14.074767",
     "status": "completed"
    },
    "tags": []
   },
   "outputs": [
    {
     "data": {
      "text/plain": [
       "<AxesSubplot:>"
      ]
     },
     "execution_count": 9,
     "metadata": {},
     "output_type": "execute_result"
    },
    {
     "data": {
      "image/png": "[encoded data removed]",
      "text/plain": [
       "<Figure size 432x288 with 1 Axes>"
      ]
     },
     "metadata": {
      "needs_background": "light"
     },
     "output_type": "display_data"
    }
   ],
   "source": [
    "plot_fold_dist(9)"
   ]
  },
  {
   "cell_type": "markdown",
   "id": "337a98ef",
   "metadata": {
    "papermill": {
     "duration": 0.01624,
     "end_time": "2021-08-24T11:47:14.333245",
     "exception": false,
     "start_time": "2021-08-24T11:47:14.317005",
     "status": "completed"
    },
    "tags": []
   },
   "source": [
    "save train-folds"
   ]
  },
  {
   "cell_type": "code",
   "execution_count": 10,
   "id": "d0b8bc11",
   "metadata": {
    "execution": {
     "iopub.execute_input": "2021-08-24T11:47:14.369424Z",
     "iopub.status.busy": "2021-08-24T11:47:14.368466Z",
     "iopub.status.idle": "2021-08-24T11:47:24.924097Z",
     "shell.execute_reply": "2021-08-24T11:47:24.923396Z",
     "shell.execute_reply.started": "2021-08-24T11:43:54.942127Z"
    },
    "papermill": {
     "duration": 10.574753,
     "end_time": "2021-08-24T11:47:24.924285",
     "exception": false,
     "start_time": "2021-08-24T11:47:14.349532",
     "status": "completed"
    },
    "tags": []
   },
   "outputs": [],
   "source": [
    "df_train.to_csv(\"train_folds.csv\", index=False)"
   ]
  }
 ],
 "metadata": {
  "kernelspec": {
   "display_name": "Python 3",
   "language": "python",
   "name": "python3"
  },
  "language_info": {
   "codemirror_mode": {
    "name": "ipython",
    "version": 3
   },
   "file_extension": ".py",
   "mimetype": "text/x-python",
   "name": "python",
   "nbconvert_exporter": "python",
   "pygments_lexer": "ipython3",
   "version": "3.7.10"
  },
  "papermill": {
   "default_parameters": {},
   "duration": 26.784417,
   "end_time": "2021-08-24T11:47:26.453692",
   "environment_variables": {},
   "exception": null,
   "input_path": "__notebook__.ipynb",
   "output_path": "__notebook__.ipynb",
   "parameters": {},
   "start_time": "2021-08-24T11:46:59.669275",
   "version": "2.3.3"
  }
 },
 "nbformat": 4,
 "nbformat_minor": 5
}
