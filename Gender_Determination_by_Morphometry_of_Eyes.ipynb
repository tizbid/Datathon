{
  "nbformat": 4,
  "nbformat_minor": 0,
  "metadata": {
    "colab": {
      "name": "Gender Determination by Morphometry of Eyes.ipynb",
      "provenance": [],
      "collapsed_sections": [],
      "include_colab_link": true
    },
    "kernelspec": {
      "name": "python3",
      "display_name": "Python 3"
    },
    "accelerator": "GPU"
  },
  "cells": [
    {
      "cell_type": "markdown",
      "metadata": {
        "id": "view-in-github",
        "colab_type": "text"
      },
      "source": [
        "<a href=\"https://colab.research.google.com/github/tizbid/Datathon/blob/master/Gender_Determination_by_Morphometry_of_Eyes.ipynb\" target=\"_parent\"><img src=\"https://colab.research.google.com/assets/colab-badge.svg\" alt=\"Open In Colab\"/></a>"
      ]
    },
    {
      "cell_type": "markdown",
      "metadata": {
        "id": "SfMK5FEhUGde"
      },
      "source": [
        "## Download the images\n",
        "\n",
        "\n",
        "We can use **GoogleDriveDownloader** form **google_drive_downloader** library in Python to download the shared files from the shared Google drive link: https://drive.google.com/file/d/1f7uslI-ZHidriQFZR966_aILjlkgDN76/view?usp=sharing\n",
        "\n",
        "The file id in the above link is: **1f7uslI-ZHidriQFZR966_aILjlkgDN76**"
      ]
    },
    {
      "cell_type": "code",
      "metadata": {
        "id": "5_1BysB4Re7f",
        "colab": {
          "base_uri": "https://localhost:8080/"
        },
        "outputId": "37688c1d-9868-40bb-be54-1c7cb2e56f31"
      },
      "source": [
        "from google_drive_downloader import GoogleDriveDownloader as gdd\n",
        "\n",
        "gdd.download_file_from_google_drive(file_id='1f7uslI-ZHidriQFZR966_aILjlkgDN76',\n",
        "                                    dest_path='content/eye_gender_data.zip',\n",
        "                                    unzip=True)"
      ],
      "execution_count": 1,
      "outputs": [
        {
          "output_type": "stream",
          "text": [
            "Downloading 1f7uslI-ZHidriQFZR966_aILjlkgDN76 into content/eye_gender_data.zip... Done.\n",
            "Unzipping...Done.\n"
          ],
          "name": "stdout"
        }
      ]
    },
    {
      "cell_type": "markdown",
      "metadata": {
        "id": "SM_FDQgXbh_-"
      },
      "source": [
        "We have all the files from the shared Google drive link downloaded in the colab environment."
      ]
    },
    {
      "cell_type": "markdown",
      "metadata": {
        "id": "wsIqjb7Ebs3B"
      },
      "source": [
        "## Loading Libraries\n",
        "All Python capabilities are not loaded to our working environment by default (even they are already installed in your system). So, we import each and every library that we want to use.\n",
        "\n",
        "We chose alias names for our libraries for the sake of our convenience (numpy --> np and pandas --> pd, tensorlow --> tf).\n",
        "\n",
        "Note: You can import all the libraries that you think will be required or can import it as you go along."
      ]
    },
    {
      "cell_type": "code",
      "metadata": {
        "id": "BIe16kmoUmhr"
      },
      "source": [
        "import pandas as pd                                                                           # Data analysis and manipultion tool\n",
        "import numpy as np                                                                            # Fundamental package for linear algebra and multidimensional arrays\n",
        "import tensorflow as tf                                                                       # Deep Learning Tool\n",
        "from tensorflow.keras.models import Sequential                                                # For buidling Sequential models\n",
        "from tensorflow.keras.layers import Activation,Dense,Dropout,Conv2D,Flatten,MaxPooling2D       # Layer parameters\n",
        "from tensorflow.keras.preprocessing.image import ImageDataGenerator\n",
        "from tensorflow.keras.callbacks import EarlyStopping\n",
        "import os                                                                                     # OS module in Python provides a way of using operating system dependent functionality\n",
        "import cv2                                                                                    # Library for image processing\n",
        "from sklearn.model_selection import train_test_split                                          # For splitting the data into train and validation set\n",
        "from random import shuffle\n",
        "from sklearn.metrics import f1_score\n",
        "import matplotlib.pyplot as plt\n"
      ],
      "execution_count": 2,
      "outputs": []
    },
    {
      "cell_type": "markdown",
      "metadata": {
        "id": "IAXqCpedduVx"
      },
      "source": [
        "## Loading and preparing training data\n"
      ]
    },
    {
      "cell_type": "code",
      "metadata": {
        "id": "vMXmX8g3dflK",
        "colab": {
          "base_uri": "https://localhost:8080/"
        },
        "outputId": "4e486eda-7a87-4fcf-bbfa-cb89ede986bc"
      },
      "source": [
        "labels = pd.read_csv(\"/content/content/eye_gender_data/Training_set.csv\")   # loading the labels\n",
        "file_paths = [[fname, '/content/content/eye_gender_data/train/' + fname] for fname in labels['filename']]\n",
        "images = pd.DataFrame(file_paths, columns=['filename', 'filepaths'])\n",
        "train_data = pd.merge(images, labels, how = 'inner', on = 'filename')\n",
        "print(train_data.head())\n",
        "print(len(train_data))"
      ],
      "execution_count": 3,
      "outputs": [
        {
          "output_type": "stream",
          "text": [
            "      filename                                          filepaths   label\n",
            "0  Image_1.jpg  /content/content/eye_gender_data/train/Image_1...    male\n",
            "1  Image_2.jpg  /content/content/eye_gender_data/train/Image_2...  female\n",
            "2  Image_3.jpg  /content/content/eye_gender_data/train/Image_3...  female\n",
            "3  Image_4.jpg  /content/content/eye_gender_data/train/Image_4...  female\n",
            "4  Image_5.jpg  /content/content/eye_gender_data/train/Image_5...    male\n",
            "9220\n"
          ],
          "name": "stdout"
        }
      ]
    },
    {
      "cell_type": "code",
      "metadata": {
        "id": "6yw_98bPS2RO"
      },
      "source": [
        "data = []     # initialize an empty numpy array\n",
        "image_size = 100     # image size taken is 100 here. one can take other size too\n",
        "for i in range(len(train_data)):\n",
        "  \n",
        "  img_array = cv2.imread(train_data['filepaths'][i], cv2.IMREAD_GRAYSCALE)   # converting the image to gray scale\n",
        "\n",
        "  new_img_array = cv2.resize(img_array, (image_size, image_size))      # resizing the image array\n",
        "  data.append([new_img_array, train_data['label'][i]])"
      ],
      "execution_count": 4,
      "outputs": []
    },
    {
      "cell_type": "code",
      "metadata": {
        "colab": {
          "base_uri": "https://localhost:8080/"
        },
        "id": "4Vae7yXCcuTd",
        "outputId": "6ee8b65f-2a83-41f2-d359-139c3b789dff"
      },
      "source": [
        "data[0]\n"
      ],
      "execution_count": 5,
      "outputs": [
        {
          "output_type": "execute_result",
          "data": {
            "text/plain": [
              "[array([[188, 188, 189, ..., 176, 175, 175],\n",
              "        [189, 189, 188, ..., 174, 173, 172],\n",
              "        [190, 189, 188, ..., 168, 167, 167],\n",
              "        ...,\n",
              "        [133, 137, 144, ..., 168, 167, 166],\n",
              "        [134, 138, 145, ..., 165, 164, 163],\n",
              "        [135, 139, 146, ..., 163, 162, 162]], dtype=uint8), 'male']"
            ]
          },
          "metadata": {
            "tags": []
          },
          "execution_count": 5
        }
      ]
    },
    {
      "cell_type": "code",
      "metadata": {
        "colab": {
          "base_uri": "https://localhost:8080/",
          "height": 268
        },
        "id": "MYhnbC3icfpb",
        "outputId": "5e6c99bc-3dcc-4522-fc3b-e02eb0f24f3d"
      },
      "source": [
        "plt.imshow(data[225][0],cmap='gray')\n",
        "plt.show()"
      ],
      "execution_count": 6,
      "outputs": [
        {
          "output_type": "display_data",
          "data": {
            "image/png": "[encoded data removed]",
            "text/plain": [
              "<Figure size 432x288 with 1 Axes>"
            ]
          },
          "metadata": {
            "tags": [],
            "needs_background": "light"
          }
        }
      ]
    },
    {
      "cell_type": "markdown",
      "metadata": {
        "id": "BvIxaRD6sn3m"
      },
      "source": [
        "## Data Pre-processing\n",
        "It is necessary to bring all the images in the same shape and size, also convert them to their pixel values because all machine learning or deep learning models accepts only the numerical data. Also we need to convert all the labels from categorical to numerical values."
      ]
    },
    {
      "cell_type": "code",
      "metadata": {
        "id": "JD3pPZgKAW8Y"
      },
      "source": [
        "#convert labels from categorical to numerical values\n",
        "train_data['label'].replace(['male','female'],[1,0],inplace=True)\n",
        "\n"
      ],
      "execution_count": 7,
      "outputs": []
    },
    {
      "cell_type": "code",
      "metadata": {
        "id": "vxPiZCLpsWrd",
        "colab": {
          "base_uri": "https://localhost:8080/"
        },
        "outputId": "e4d3fc6f-5ad6-40f2-c637-c0bd1dcbe27b"
      },
      "source": [
        "# Load Training Data\n",
        "\n",
        "def create_training_data():\n",
        "  training_data = []\n",
        "  for i in range(len(train_data)):\n",
        "    \n",
        "    img_array = cv2.imread(train_data['filepaths'][i], cv2.IMREAD_GRAYSCALE)   # converting the image to gray scale\n",
        "    new_img_array = cv2.resize(img_array, (image_size, image_size))      # resizing the image array\n",
        "    training_data.append([np.array(new_img_array), np.array(train_data['label'][i])])\n",
        "\n",
        "  #shuffle(training_data)\n",
        "  np.save('train_data.npy', training_data)\n",
        "  return training_data\n",
        "\n",
        "training_data = create_training_data()\n",
        "\n"
      ],
      "execution_count": 8,
      "outputs": [
        {
          "output_type": "stream",
          "text": [
            "/usr/local/lib/python3.7/dist-packages/numpy/core/_asarray.py:136: VisibleDeprecationWarning: Creating an ndarray from ragged nested sequences (which is a list-or-tuple of lists-or-tuples-or ndarrays with different lengths or shapes) is deprecated. If you meant to do this, you must specify 'dtype=object' when creating the ndarray\n",
            "  return array(a, dtype, copy=False, order=order, subok=True)\n"
          ],
          "name": "stderr"
        }
      ]
    },
    {
      "cell_type": "code",
      "metadata": {
        "colab": {
          "base_uri": "https://localhost:8080/"
        },
        "id": "TWZRxxxFLfgY",
        "outputId": "2487e708-9b5b-4b68-a214-27f8dd26b6d2"
      },
      "source": [
        "training_data[0]"
      ],
      "execution_count": 9,
      "outputs": [
        {
          "output_type": "execute_result",
          "data": {
            "text/plain": [
              "[array([[188, 188, 189, ..., 176, 175, 175],\n",
              "        [189, 189, 188, ..., 174, 173, 172],\n",
              "        [190, 189, 188, ..., 168, 167, 167],\n",
              "        ...,\n",
              "        [133, 137, 144, ..., 168, 167, 166],\n",
              "        [134, 138, 145, ..., 165, 164, 163],\n",
              "        [135, 139, 146, ..., 163, 162, 162]], dtype=uint8), array(1)]"
            ]
          },
          "metadata": {
            "tags": []
          },
          "execution_count": 9
        }
      ]
    },
    {
      "cell_type": "code",
      "metadata": {
        "id": "kOKWYA6Ua4Uh"
      },
      "source": [
        "#features and labels\n",
        "X = []\n",
        "y = []"
      ],
      "execution_count": 10,
      "outputs": []
    },
    {
      "cell_type": "code",
      "metadata": {
        "id": "ZQWMyQLva53K"
      },
      "source": [
        "for features,label in training_data:\n",
        "  X.append(features)\n",
        "  y.append(label)\n",
        "\n",
        "\n",
        "X = np.array(X).reshape(-1,image_size, image_size, 1)\n",
        "y = np.array(y)\n"
      ],
      "execution_count": 11,
      "outputs": []
    },
    {
      "cell_type": "code",
      "metadata": {
        "colab": {
          "base_uri": "https://localhost:8080/"
        },
        "id": "OfFcS1UR3uJ3",
        "outputId": "864056b8-516f-4717-b395-ebb4a28472b7"
      },
      "source": [
        "print(X.shape,y.shape)"
      ],
      "execution_count": 12,
      "outputs": [
        {
          "output_type": "stream",
          "text": [
            "(9220, 100, 100, 1) (9220,)\n"
          ],
          "name": "stdout"
        }
      ]
    },
    {
      "cell_type": "markdown",
      "metadata": {
        "id": "cDCZ53yE7340"
      },
      "source": [
        "## Building Model & Hyperparameter tuning\n",
        "Now we are finally ready, and we can train the model.\n"
      ]
    },
    {
      "cell_type": "code",
      "metadata": {
        "colab": {
          "base_uri": "https://localhost:8080/"
        },
        "id": "dendOLwLFaNP",
        "outputId": "432b55e6-4337-4c7e-ea31-70ea48ac94d2"
      },
      "source": [
        "# define input shape\n",
        "INPUT_SHAPE = (image_size,image_size, 1)\n",
        "\n",
        "# define sequential model\n",
        "model = Sequential()\n",
        "\n",
        "# define conv-pool layers - set 1\n",
        "model.add(Conv2D(filters=16, kernel_size=(3, 3), strides=(1, 1), activation='relu', padding='valid', input_shape=INPUT_SHAPE))\n",
        "model.add(MaxPooling2D(pool_size=(2, 2)))\n",
        "\n",
        "\n",
        "# define conv-pool layers - set 2\n",
        "model.add(Conv2D(filters=32, kernel_size=(3, 3), strides=(1, 1), activation='relu', padding='valid', input_shape=INPUT_SHAPE))\n",
        "model.add(MaxPooling2D(pool_size=(2, 2)))\n",
        "\n",
        "# add flatten layer\n",
        "model.add(Flatten())\n",
        "\n",
        "# add dense layers with some dropout\n",
        "#model.add(Dense(256, activation='relu'))\n",
        "\n",
        "\n",
        "model.add(Dense(256, activation='relu'))\n",
        "model.add(Dropout(rate=0.2))\n",
        "\n",
        "model.add(Dense(512, activation='relu'))\n",
        "\n",
        "# add output layer\n",
        "model.add(Dense(1, activation='sigmoid'))\n",
        "\n",
        "# view model layers\n",
        "model.summary()"
      ],
      "execution_count": 13,
      "outputs": [
        {
          "output_type": "stream",
          "text": [
            "Model: \"sequential\"\n",
            "_________________________________________________________________\n",
            "Layer (type)                 Output Shape              Param #   \n",
            "=================================================================\n",
            "conv2d (Conv2D)              (None, 98, 98, 16)        160       \n",
            "_________________________________________________________________\n",
            "max_pooling2d (MaxPooling2D) (None, 49, 49, 16)        0         \n",
            "_________________________________________________________________\n",
            "conv2d_1 (Conv2D)            (None, 47, 47, 32)        4640      \n",
            "_________________________________________________________________\n",
            "max_pooling2d_1 (MaxPooling2 (None, 23, 23, 32)        0         \n",
            "_________________________________________________________________\n",
            "flatten (Flatten)            (None, 16928)             0         \n",
            "_________________________________________________________________\n",
            "dense (Dense)                (None, 256)               4333824   \n",
            "_________________________________________________________________\n",
            "dropout (Dropout)            (None, 256)               0         \n",
            "_________________________________________________________________\n",
            "dense_1 (Dense)              (None, 512)               131584    \n",
            "_________________________________________________________________\n",
            "dense_2 (Dense)              (None, 1)                 513       \n",
            "=================================================================\n",
            "Total params: 4,470,721\n",
            "Trainable params: 4,470,721\n",
            "Non-trainable params: 0\n",
            "_________________________________________________________________\n"
          ],
          "name": "stdout"
        }
      ]
    },
    {
      "cell_type": "code",
      "metadata": {
        "colab": {
          "base_uri": "https://localhost:8080/"
        },
        "id": "2LJAPHY81-kI",
        "outputId": "2f426852-9892-4b9e-a01a-27f66fde39e4"
      },
      "source": [
        "#save Model\n",
        "!mkdir -p saved_model\n",
        "model.save('saved_model/my_model')"
      ],
      "execution_count": 14,
      "outputs": [
        {
          "output_type": "stream",
          "text": [
            "WARNING:tensorflow:Compiled the loaded model, but the compiled metrics have yet to be built. `model.compile_metrics` will be empty until you train or evaluate the model.\n",
            "INFO:tensorflow:Assets written to: saved_model/my_model/assets\n"
          ],
          "name": "stdout"
        }
      ]
    },
    {
      "cell_type": "code",
      "metadata": {
        "colab": {
          "base_uri": "https://localhost:8080/"
        },
        "id": "UFCWQMZw2drD",
        "outputId": "a763231f-65fa-462f-c5bb-575226f26b89"
      },
      "source": [
        "#Load back model for use in validation \n",
        "model = tf.keras.models.load_model('saved_model/my_model')\n",
        "\n",
        "# Check its architecture\n",
        "model.summary()"
      ],
      "execution_count": 18,
      "outputs": [
        {
          "output_type": "stream",
          "text": [
            "WARNING:tensorflow:No training configuration found in save file, so the model was *not* compiled. Compile it manually.\n",
            "Model: \"sequential\"\n",
            "_________________________________________________________________\n",
            "Layer (type)                 Output Shape              Param #   \n",
            "=================================================================\n",
            "conv2d (Conv2D)              (None, 98, 98, 16)        160       \n",
            "_________________________________________________________________\n",
            "max_pooling2d (MaxPooling2D) (None, 49, 49, 16)        0         \n",
            "_________________________________________________________________\n",
            "conv2d_1 (Conv2D)            (None, 47, 47, 32)        4640      \n",
            "_________________________________________________________________\n",
            "max_pooling2d_1 (MaxPooling2 (None, 23, 23, 32)        0         \n",
            "_________________________________________________________________\n",
            "flatten (Flatten)            (None, 16928)             0         \n",
            "_________________________________________________________________\n",
            "dense (Dense)                (None, 256)               4333824   \n",
            "_________________________________________________________________\n",
            "dropout (Dropout)            (None, 256)               0         \n",
            "_________________________________________________________________\n",
            "dense_1 (Dense)              (None, 512)               131584    \n",
            "_________________________________________________________________\n",
            "dense_2 (Dense)              (None, 1)                 513       \n",
            "=================================================================\n",
            "Total params: 4,470,721\n",
            "Trainable params: 4,470,721\n",
            "Non-trainable params: 0\n",
            "_________________________________________________________________\n"
          ],
          "name": "stdout"
        }
      ]
    },
    {
      "cell_type": "code",
      "metadata": {
        "id": "eXF__aR5aEGL"
      },
      "source": [
        "# compile model\n",
        "model.compile(optimizer='adam', loss='binary_crossentropy', metrics=['accuracy'])"
      ],
      "execution_count": 19,
      "outputs": []
    },
    {
      "cell_type": "markdown",
      "metadata": {
        "id": "tc3lSJ2a-OYt"
      },
      "source": [
        "## Validate the model\n"
      ]
    },
    {
      "cell_type": "code",
      "metadata": {
        "id": "_jkmDd6PbAJH",
        "colab": {
          "base_uri": "https://localhost:8080/"
        },
        "outputId": "8570cdf8-6395-4a63-e7e8-2b3caa0991c4"
      },
      "source": [
        "X_train= X/ 255.0                               # Normalize training data\n",
        "y_train = y\n",
        "#es_callback = EarlyStopping(monitor='val_loss', patience=3, restore_best_weights=True,verbose=1) #setup earlingstopping callbacks\n",
        "\n",
        "history = model.fit(X_train,y_train,batch_size=35,epochs=10, validation_split = 0.2,verbose=1)"
      ],
      "execution_count": 20,
      "outputs": [
        {
          "output_type": "stream",
          "text": [
            "Epoch 1/10\n",
            "211/211 [==============================] - 34s 10ms/step - loss: 0.5147 - accuracy: 0.7294 - val_loss: 0.4212 - val_accuracy: 0.8026\n",
            "Epoch 2/10\n",
            "211/211 [==============================] - 2s 9ms/step - loss: 0.3516 - accuracy: 0.8468 - val_loss: 0.3050 - val_accuracy: 0.8693\n",
            "Epoch 3/10\n",
            "211/211 [==============================] - 2s 8ms/step - loss: 0.2999 - accuracy: 0.8743 - val_loss: 0.2900 - val_accuracy: 0.8802\n",
            "Epoch 4/10\n",
            "211/211 [==============================] - 2s 8ms/step - loss: 0.2511 - accuracy: 0.8929 - val_loss: 0.2878 - val_accuracy: 0.8867\n",
            "Epoch 5/10\n",
            "211/211 [==============================] - 2s 8ms/step - loss: 0.2102 - accuracy: 0.9140 - val_loss: 0.2768 - val_accuracy: 0.8970\n",
            "Epoch 6/10\n",
            "211/211 [==============================] - 2s 8ms/step - loss: 0.1869 - accuracy: 0.9241 - val_loss: 0.2659 - val_accuracy: 0.8986\n",
            "Epoch 7/10\n",
            "211/211 [==============================] - 2s 8ms/step - loss: 0.1443 - accuracy: 0.9417 - val_loss: 0.2737 - val_accuracy: 0.9073\n",
            "Epoch 8/10\n",
            "211/211 [==============================] - 2s 8ms/step - loss: 0.1215 - accuracy: 0.9527 - val_loss: 0.2902 - val_accuracy: 0.9051\n",
            "Epoch 9/10\n",
            "211/211 [==============================] - 2s 8ms/step - loss: 0.0957 - accuracy: 0.9634 - val_loss: 0.3055 - val_accuracy: 0.9067\n",
            "Epoch 10/10\n",
            "211/211 [==============================] - 2s 8ms/step - loss: 0.0637 - accuracy: 0.9759 - val_loss: 0.3950 - val_accuracy: 0.8964\n"
          ],
          "name": "stdout"
        }
      ]
    },
    {
      "cell_type": "code",
      "metadata": {
        "colab": {
          "base_uri": "https://localhost:8080/",
          "height": 265
        },
        "id": "bnUSlnAX3shh",
        "outputId": "719d09a0-5421-4056-8f1f-f150d0a937f9"
      },
      "source": [
        "import pandas as pd\n",
        "\n",
        "fig, ax = plt.subplots(1, 2, figsize=(10, 4))\n",
        "\n",
        "history_df = pd.DataFrame(history.history)\n",
        "history_df[['loss', 'val_loss']].plot(kind='line', ax=ax[0])\n",
        "history_df[['accuracy', 'val_accuracy']].plot(kind='line', ax=ax[1]);                                                                                                                                       "
      ],
      "execution_count": 21,
      "outputs": [
        {
          "output_type": "display_data",
          "data": {
            "image/png": "[encoded data removed]",
            "text/plain": [
              "<Figure size 720x288 with 2 Axes>"
            ]
          },
          "metadata": {
            "tags": [],
            "needs_background": "light"
          }
        }
      ]
    },
    {
      "cell_type": "markdown",
      "metadata": {
        "id": "kLrpm-If-lRT"
      },
      "source": [
        "## Predict The Output For Testing Dataset 😅\n",
        "We have trained our model, evaluated it and now finally we will predict the output/target for the testing data (i.e. Test.csv)."
      ]
    },
    {
      "cell_type": "markdown",
      "metadata": {
        "id": "nG70J6Un-s2G"
      },
      "source": [
        "#### Load Test Set\n",
        "Load the test data on which final submission is to be made."
      ]
    },
    {
      "cell_type": "code",
      "metadata": {
        "id": "KwCkFQcCOYZ5"
      },
      "source": [
        "test_dir = '/content/content/eye_gender_data/test/'"
      ],
      "execution_count": 22,
      "outputs": []
    },
    {
      "cell_type": "code",
      "metadata": {
        "id": "d3pzuUSSOKaO"
      },
      "source": [
        "#Load Test Data\n",
        "\n",
        "def create_Test_data():\n",
        "  testing_data = []\n",
        "  for img in os.listdir(test_dir):\n",
        "    path = os.path.join(test_dir,img)\n",
        "    #img_num = img.split('.')[0]\n",
        "    img_array = cv2.imread(path, cv2.IMREAD_GRAYSCALE)   # converting the image to gray scale\n",
        "    new_img_array = cv2.resize(img_array, (image_size, image_size))      # resizing the image array\n",
        "    testing_data.append([np.array(new_img_array)])\n",
        "\n",
        "  shuffle(testing_data)\n",
        "  np.save('test_data.npy', testing_data)\n",
        "  return testing_data\n",
        "\n",
        "testing_data = create_Test_data()\n"
      ],
      "execution_count": 23,
      "outputs": []
    },
    {
      "cell_type": "markdown",
      "metadata": {
        "id": "ZqSujaW0CRi9"
      },
      "source": [
        "## Data Pre-processing on test_data\n"
      ]
    },
    {
      "cell_type": "code",
      "metadata": {
        "id": "Wy7-NZ7TCiSQ"
      },
      "source": [
        "test_images = np.array(testing_data).reshape(-1,image_size, image_size, 1)"
      ],
      "execution_count": 24,
      "outputs": []
    },
    {
      "cell_type": "code",
      "metadata": {
        "id": "7KNDswlffvYq"
      },
      "source": [
        "X_test= test_images/ 255.0 "
      ],
      "execution_count": 25,
      "outputs": []
    },
    {
      "cell_type": "markdown",
      "metadata": {
        "id": "AxtDS6-0J0s2"
      },
      "source": [
        "### Make Prediction on Test Dataset\n",
        "Time to make a submission!!!"
      ]
    },
    {
      "cell_type": "code",
      "metadata": {
        "id": "yXLCDKVrJuzY"
      },
      "source": [
        "test_data_predictions = model.predict(X_test)"
      ],
      "execution_count": 26,
      "outputs": []
    },
    {
      "cell_type": "code",
      "metadata": {
        "id": "OdFZyMD2v_jf"
      },
      "source": [
        "def get_predictions():\n",
        "  predictions = []\n",
        "  for img in test_data_predictions:\n",
        "    if img > 0.5:\n",
        "      predictions.append('male')\n",
        "    else:\n",
        "      predictions.append('female')\n",
        "  \n",
        "  return predictions \n",
        "\n",
        "predictions = get_predictions()\n"
      ],
      "execution_count": 27,
      "outputs": []
    },
    {
      "cell_type": "code",
      "metadata": {
        "colab": {
          "base_uri": "https://localhost:8080/"
        },
        "id": "97yloQg9GQYb",
        "outputId": "e7cb8fc7-f10f-478a-f2d2-b88e458a1f72"
      },
      "source": [
        "predictions [:5]"
      ],
      "execution_count": 29,
      "outputs": [
        {
          "output_type": "execute_result",
          "data": {
            "text/plain": [
              "['female', 'female', 'male', 'male', 'female']"
            ]
          },
          "metadata": {
            "tags": []
          },
          "execution_count": 29
        }
      ]
    },
    {
      "cell_type": "markdown",
      "metadata": {
        "id": "ILu2PfzNOqLx"
      },
      "source": [
        "### Save prediction results locally via colab notebook\n"
      ]
    },
    {
      "cell_type": "code",
      "metadata": {
        "id": "FpcTFRw7NgXp",
        "colab": {
          "base_uri": "https://localhost:8080/",
          "height": 17
        },
        "outputId": "0f2a02ed-85f2-45f3-f323-1ba43a4b05a0"
      },
      "source": [
        "res = pd.DataFrame({'label': predictions})  \n",
        "res.to_csv(\"submission.csv\", index = False) \n",
        "\n",
        "# To download the csv file locally\n",
        "from google.colab import files        \n",
        "files.download('submission.csv')"
      ],
      "execution_count": null,
      "outputs": [
        {
          "output_type": "display_data",
          "data": {
            "application/javascript": [
              "\n",
              "    async function download(id, filename, size) {\n",
              "      if (!google.colab.kernel.accessAllowed) {\n",
              "        return;\n",
              "      }\n",
              "      const div = document.createElement('div');\n",
              "      const label = document.createElement('label');\n",
              "      label.textContent = `Downloading \"${filename}\": `;\n",
              "      div.appendChild(label);\n",
              "      const progress = document.createElement('progress');\n",
              "      progress.max = size;\n",
              "      div.appendChild(progress);\n",
              "      document.body.appendChild(div);\n",
              "\n",
              "      const buffers = [];\n",
              "      let downloaded = 0;\n",
              "\n",
              "      const channel = await google.colab.kernel.comms.open(id);\n",
              "      // Send a message to notify the kernel that we're ready.\n",
              "      channel.send({})\n",
              "\n",
              "      for await (const message of channel.messages) {\n",
              "        // Send a message to notify the kernel that we're ready.\n",
              "        channel.send({})\n",
              "        if (message.buffers) {\n",
              "          for (const buffer of message.buffers) {\n",
              "            buffers.push(buffer);\n",
              "            downloaded += buffer.byteLength;\n",
              "            progress.value = downloaded;\n",
              "          }\n",
              "        }\n",
              "      }\n",
              "      const blob = new Blob(buffers, {type: 'application/binary'});\n",
              "      const a = document.createElement('a');\n",
              "      a.href = window.URL.createObjectURL(blob);\n",
              "      a.download = filename;\n",
              "      div.appendChild(a);\n",
              "      a.click();\n",
              "      div.remove();\n",
              "    }\n",
              "  "
            ],
            "text/plain": [
              "<IPython.core.display.Javascript object>"
            ]
          },
          "metadata": {
            "tags": []
          }
        },
        {
          "output_type": "display_data",
          "data": {
            "application/javascript": [
              "download(\"download_bda03831-1781-4392-9cc9-b3511ae2f29c\", \"submission.csv\", 13773)"
            ],
            "text/plain": [
              "<IPython.core.display.Javascript object>"
            ]
          },
          "metadata": {
            "tags": []
          }
        }
      ]
    },
    {
      "cell_type": "markdown",
      "metadata": {
        "id": "NohZiMIkO_tX"
      },
      "source": [
        "# **Well Done! 👍**\n",
        "You are all set to make a submission. Let's head to the **[challenge page](https://dphi.tech/challenges/4-week-deep-learning-online-bootcamp-final-assignment-sex-determination-by-morphometry-of-eyes/144/submit)** to make the submission."
      ]
    }
  ]
}